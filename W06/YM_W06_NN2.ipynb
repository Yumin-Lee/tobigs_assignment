{
 "cells": [
  {
   "cell_type": "markdown",
   "metadata": {},
   "source": [
    "# 1. Initialize Network"
   ]
  },
  {
   "cell_type": "code",
   "execution_count": 1,
   "metadata": {},
   "outputs": [
    {
     "name": "stdout",
     "output_type": "stream",
     "text": [
      "[{'weights': [0.13436424411240122, 0.8474337369372327, 0.763774618976614]}]\n",
      "[{'weights': [0.2550690257394217, 0.49543508709194095]}, {'weights': [0.4494910647887381, 0.651592972722763]}]\n"
     ]
    }
   ],
   "source": [
    "from random import seed\n",
    "from random import random\n",
    "import numpy as np\n",
    " \n",
    "# 네트워크 초기 설정 : 입력/은닉/출력층 받음\n",
    "def initialize_network(n_inputs, n_hidden, n_outputs):\n",
    "    network = list()\n",
    "    hidden_layer = [{'weights':[random() for i in range(n_inputs + 1)]} for i in range(n_hidden)]\n",
    "    network.append(hidden_layer)\n",
    "    output_layer = [{'weights':[random() for i in range(n_hidden + 1)]} for i in range(n_outputs)]\n",
    "    network.append(output_layer)\n",
    "    return network\n",
    " \n",
    "seed(1)\n",
    "network = initialize_network(2, 1, 2)\n",
    "for layer in network:\n",
    "    print(layer)"
   ]
  },
  {
   "cell_type": "markdown",
   "metadata": {},
   "source": [
    "### 결과 해석\n",
    "입력층: 입력 노드(2)와 바이어스(1)\n",
    "\n",
    "은닉층1: 노드(1)과 바이어스(1)\n",
    "\n",
    "출력층: 노드(2)"
   ]
  },
  {
   "cell_type": "markdown",
   "metadata": {},
   "source": [
    "# 2. Forward Propagation"
   ]
  },
  {
   "cell_type": "code",
   "execution_count": 2,
   "metadata": {},
   "outputs": [],
   "source": [
    "def activate(weights, inputs):\n",
    "    activation = weights[-1]\n",
    "    for i in range(len(weights)-1):\n",
    "        activation += weights[i] * inputs[i]  # 순전파 진행 \n",
    "    return activation\n",
    "    # 한 노드에 대한 계산을 수행하는 함수\n",
    "    # bias를 마지막 가중치로 두었음!\n",
    "\n",
    "def sigmoid(activation):\n",
    "    return 1.0 / (1.0 + np.e**(-activation)) # 시그모이드 구현\n",
    "\n",
    "def forward_propagate(network, row):\n",
    "    inputs = row\n",
    "    for layer in network:\n",
    "        new_inputs = []\n",
    "        for neuron in layer:\n",
    "            activation = activate(neuron['weights'], inputs)  \n",
    "            neuron['output'] = sigmoid(activation) # 마지막 층에서의 결과값 사용!\n",
    "            # 나온 계산 값을 그대로 쓰나요? : 네!\n",
    "            \n",
    "            new_inputs.append(neuron['output']) # new_input은 다음 히든층에 들어갈 값이죠?\n",
    "        inputs = new_inputs\n",
    "    return inputs"
   ]
  },
  {
   "cell_type": "markdown",
   "metadata": {},
   "source": [
    "**여기까지는 순전파 학습과정이었습니다. 이 과정이 끝나면 가중치가 바뀌나요?  \n",
    "답변을 답변의 근거 코딩 결과와 함께 보여주세요.**"
   ]
  },
  {
   "cell_type": "markdown",
   "metadata": {},
   "source": [
    ": 순전파에서는 가중치는 변하지 않음을 확인할 수 있음"
   ]
  },
  {
   "cell_type": "code",
   "execution_count": 3,
   "metadata": {
    "scrolled": true
   },
   "outputs": [
    {
     "data": {
      "text/plain": [
       "[0.6629970129852887, 0.7253160725279748]"
      ]
     },
     "execution_count": 3,
     "metadata": {},
     "output_type": "execute_result"
    }
   ],
   "source": [
    "row = [1, 0, None]\n",
    "forward_propagate(network, row)"
   ]
  },
  {
   "cell_type": "markdown",
   "metadata": {},
   "source": [
    "# 3. Backward Propagate Error"
   ]
  },
  {
   "cell_type": "code",
   "execution_count": 4,
   "metadata": {},
   "outputs": [],
   "source": [
    "def sigmoid_derivative(output):\n",
    "    return output * (1.0 - output) \n",
    "    # 시그모이드 미분, 다시 말해 출력값의 기울기를 계산!\n",
    "\n",
    "def backward_propagate_error(network, expected):\n",
    "    for i in reversed(range(len(network))):\n",
    "        layer = network[i]\n",
    "        errors = []\n",
    "        if i != len(network)-1:\n",
    "            for j in range(len(layer)):  #j는 neuron['weights'][j]에서의 뉴런의 가중치의index\n",
    "                error = 0.0\n",
    "                for neuron in network[i + 1]:\n",
    "                    error += (neuron['weights'][j] * neuron['delta'])\n",
    "                    # 각 뉴런에 대해 계산된 오류 신호\n",
    "                    # j는 출력층의 neuron['weights'][j]의 노드 가중치의 index\n",
    "                errors.append(error) \n",
    "        else: # 역전파이므로 else문부터 실행됨!\n",
    "            for j in range(len(layer)):\n",
    "                neuron = layer[j]\n",
    "                errors.append(expected[j] - neuron['output']) \n",
    "                # 역전파시 오차는 어떻게 설정했나요?\n",
    "                \n",
    "        for j in range(len(layer)):\n",
    "            neuron = layer[j]\n",
    "            neuron['delta'] = errors[j] * sigmoid_derivative(neuron['output']) \n",
    "            # 시그모이드 함수를 사용한 역전파 \n",
    "            # delta : 각 노드에 대해 계산된 오류 저장"
   ]
  },
  {
   "cell_type": "markdown",
   "metadata": {},
   "source": [
    "backward_propagate_error() 함수는 출력층부터 시작해서 역방향으로 계산해 나감.따라서 출력층의 노드에 은닉층 노드가 쓰일 수 있게 델타값을 먼저 계산하게 됨!"
   ]
  },
  {
   "cell_type": "code",
   "execution_count": 5,
   "metadata": {
    "scrolled": false
   },
   "outputs": [
    {
     "name": "stdout",
     "output_type": "stream",
     "text": [
      "[{'weights': [0.13436424411240122, 0.8474337369372327, 0.763774618976614], 'output': 0.7105668883115941, 'delta': -0.002711797799238243}]\n",
      "[{'weights': [0.2550690257394217, 0.49543508709194095], 'output': 0.6629970129852887, 'delta': -0.14813473120687762}, {'weights': [0.4494910647887381, 0.651592972722763], 'output': 0.7253160725279748, 'delta': 0.05472601157879688}]\n"
     ]
    }
   ],
   "source": [
    "expected = [0, 1]\n",
    "\n",
    "backward_propagate_error(network, expected)\n",
    "for layer in network:\n",
    "    print(layer)"
   ]
  },
  {
   "cell_type": "markdown",
   "metadata": {},
   "source": [
    "# 4. Train Network"
   ]
  },
  {
   "cell_type": "markdown",
   "metadata": {},
   "source": [
    "-back propagation으로 각 노드의 오류를 계산하면 가중치 업데이트가 가능함. (weights_update())"
   ]
  },
  {
   "cell_type": "code",
   "execution_count": 6,
   "metadata": {},
   "outputs": [],
   "source": [
    "def weights_update(network, row, l_rate):\n",
    "    for i in range(len(network)):\n",
    "        inputs = row[:-1] # 가중치에서 마지막 항목은 바이어스니까!\n",
    "        if i != 0:\n",
    "            inputs = [neuron['output'] for neuron in network[i - 1]]\n",
    "        for neuron in network[i]:\n",
    "            for j in range(len(inputs)):\n",
    "                neuron['weights'][j] += l_rate * neuron['delta'] * inputs[j]\n",
    "                # 여기서 l_rate는 가중치를 얼마나 바꿔야하는지를 나타냄\n",
    "            neuron['weights'][-1] += l_rate * neuron['delta'] # 퍼셉트론 학습 규칙\n",
    "   #### weights_update 함수는 순전파/역전파를 이미 수행했다고 가정함!      \n",
    "\n",
    "def train_network(network, train, l_rate, n_epoch, n_outputs):\n",
    "    for epoch in range(n_epoch):\n",
    "        sum_error = 0\n",
    "        for row in train:\n",
    "            outputs = forward_propagate(network, row) # 순전파 \n",
    "            expected = [0 for i in range(n_outputs)]\n",
    "            expected[row[-1]] = 1\n",
    "            sum_error += sum([(expected[i]-outputs[i])**2 for i in range(len(expected))]) # 예측값의 오차 합\n",
    "            backward_propagate_error(network, expected)\n",
    "            weights_update(network, row, l_rate)\n",
    "        print('>epoch=%d, lrate=%.3f, error=%.3f' % (epoch, l_rate, sum_error))"
   ]
  },
  {
   "cell_type": "code",
   "execution_count": 7,
   "metadata": {},
   "outputs": [],
   "source": [
    "seed(1)\n",
    "dataset = [[2.7810836,2.550537003,0],\n",
    "    [1.465489372,2.362125076,0],\n",
    "    [3.396561688,4.400293529,0],\n",
    "    [1.38807019,1.850220317,0],\n",
    "    [3.06407232,3.005305973,0],\n",
    "    [7.627531214,2.759262235,1],\n",
    "    [5.332441248,2.088626775,1],\n",
    "    [6.922596716,1.77106367,1],\n",
    "    [8.675418651,-0.242068655,1],\n",
    "    [7.673756466,3.508563011,1]]"
   ]
  },
  {
   "cell_type": "code",
   "execution_count": 8,
   "metadata": {},
   "outputs": [
    {
     "name": "stdout",
     "output_type": "stream",
     "text": [
      ">epoch=0, lrate=0.500, error=6.350\n",
      ">epoch=1, lrate=0.500, error=5.531\n",
      ">epoch=2, lrate=0.500, error=5.221\n",
      ">epoch=3, lrate=0.500, error=4.951\n",
      ">epoch=4, lrate=0.500, error=4.519\n",
      ">epoch=5, lrate=0.500, error=4.173\n",
      ">epoch=6, lrate=0.500, error=3.835\n",
      ">epoch=7, lrate=0.500, error=3.506\n",
      ">epoch=8, lrate=0.500, error=3.192\n",
      ">epoch=9, lrate=0.500, error=2.898\n",
      ">epoch=10, lrate=0.500, error=2.626\n",
      ">epoch=11, lrate=0.500, error=2.377\n",
      ">epoch=12, lrate=0.500, error=2.153\n",
      ">epoch=13, lrate=0.500, error=1.953\n",
      ">epoch=14, lrate=0.500, error=1.774\n",
      ">epoch=15, lrate=0.500, error=1.614\n",
      ">epoch=16, lrate=0.500, error=1.472\n",
      ">epoch=17, lrate=0.500, error=1.346\n",
      ">epoch=18, lrate=0.500, error=1.233\n",
      ">epoch=19, lrate=0.500, error=1.132\n"
     ]
    },
    {
     "data": {
      "text/plain": [
       "[{'weights': [2.515394649397849, -0.3391927502445981, -0.9671565426390278],\n",
       "  'output': 0.23648794202357587,\n",
       "  'delta': -0.04270059278364587},\n",
       " {'weights': [-2.5584149848484263, 1.0036422106209193, 0.42383086467582776],\n",
       "  'output': 0.7790535202438367,\n",
       "  'delta': 0.03803132596437354}]"
      ]
     },
     "execution_count": 8,
     "metadata": {},
     "output_type": "execute_result"
    }
   ],
   "source": [
    "n_inputs = 2\n",
    "    # 뉴럴렛의 입력노드로 뭐가 들어가죠? 그럼 입력 노드의 개수는? : 2개의 입력 노드이므로 바이어스까지 총 3개의 노드가 들어감!\n",
    "n_outputs = 2 \n",
    "    # 뉴럴렛의 출력노드의 개수는 뭐라고 했죠? : 출력층의 노드 수(여기서는 2개!)\n",
    "network = initialize_network(n_inputs, 2, n_outputs)\n",
    "   \n",
    "train_network(network, dataset, 0.5, 20, n_outputs) # 자유롭게 설정하고 최적을 찾아보세요.\n",
    "\n",
    "# 학습된(최적화)된 네트워크가 초기 네트워크와 달리 어떻게 변하였는지 출력하시오. (layer별로,hint : for문))\n",
    "for layer in network: # 네트워크의 크기는 2\n",
    "    layer.append #layer가 리스트니까!\n",
    "layer"
   ]
  },
  {
   "cell_type": "markdown",
   "metadata": {},
   "source": [
    "### 결과 해석\n",
    "각 training epoch마다 제곱오차의 합을 출력함.\n",
    "\n",
    "또한 epoch가 커질수록 점점 오차가 작아지는 것을 확인할 수 있음!"
   ]
  },
  {
   "cell_type": "markdown",
   "metadata": {},
   "source": [
    "# 5. Prediction"
   ]
  },
  {
   "cell_type": "markdown",
   "metadata": {},
   "source": [
    "지금까지 계산한 값을 토대로 해서 출력층 각각의 노드에 속하는 확률을 출력값으로 사용하자!\n",
    "\n",
    "여기서 predict() 함수는 출력층 중 확률이 가장 큰 클래스의 index를 print해 줍니당(max(output)을 쓰는 이유)\n",
    "\n",
    "또한 여기서 class들은 음이 아닌 정수값으로 return 되었다고 가정합니다!"
   ]
  },
  {
   "cell_type": "code",
   "execution_count": 9,
   "metadata": {},
   "outputs": [],
   "source": [
    "# 학습한 네트워크로 예측값을 뽑아보자.\n",
    "\n",
    "def predict(network, row):\n",
    "    outputs = forward_propagate(network, row)\n",
    "    return outputs.index(max(outputs)) # 순전파 결과에서 어떤것이 최종 아웃풋이 되나요?"
   ]
  },
  {
   "cell_type": "code",
   "execution_count": 10,
   "metadata": {},
   "outputs": [
    {
     "name": "stdout",
     "output_type": "stream",
     "text": [
      "실제값=0, 예측값=0\n",
      "실제값=0, 예측값=0\n",
      "실제값=0, 예측값=0\n",
      "실제값=0, 예측값=0\n",
      "실제값=0, 예측값=0\n",
      "실제값=1, 예측값=1\n",
      "실제값=1, 예측값=1\n",
      "실제값=1, 예측값=1\n",
      "실제값=1, 예측값=1\n",
      "실제값=1, 예측값=1\n"
     ]
    }
   ],
   "source": [
    "# 네트워크가 잘 학습되었는지 확인해보자. \n",
    "\n",
    "for row in dataset:\n",
    "    prediction = predict(network, row) # 앞서 최적(학습)시킨 네트워크로 잘 학습되었는지 평가 \n",
    "    print('실제값=%d, 예측값=%d' % (row[-1], prediction))"
   ]
  },
  {
   "cell_type": "markdown",
   "metadata": {},
   "source": [
    "정확도 100% !! 를 확인할 수 있습니다"
   ]
  }
 ],
 "metadata": {
  "kernelspec": {
   "display_name": "Python 3",
   "language": "python",
   "name": "python3"
  },
  "language_info": {
   "codemirror_mode": {
    "name": "ipython",
    "version": 3
   },
   "file_extension": ".py",
   "mimetype": "text/x-python",
   "name": "python",
   "nbconvert_exporter": "python",
   "pygments_lexer": "ipython3",
   "version": "3.7.4"
  }
 },
 "nbformat": 4,
 "nbformat_minor": 2
}
