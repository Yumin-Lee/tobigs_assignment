{
 "cells": [
  {
   "cell_type": "markdown",
   "metadata": {},
   "source": [
    "# DT Assignment1"
   ]
  },
  {
   "cell_type": "markdown",
   "metadata": {},
   "source": [
    "# Data Loading"
   ]
  },
  {
   "cell_type": "code",
   "execution_count": 2,
   "metadata": {},
   "outputs": [],
   "source": [
    "import pandas as pd \n",
    "import numpy as np"
   ]
  },
  {
   "cell_type": "code",
   "execution_count": 3,
   "metadata": {
    "scrolled": true
   },
   "outputs": [],
   "source": [
    "pd_data = pd.read_csv('https://raw.githubusercontent.com/AugustLONG/ML01/master/01decisiontree/AllElectronics.csv')\n",
    "pd_data.drop(\"RID\",axis=1, inplace = True) #RID는 그냥 순서라서 삭제"
   ]
  },
  {
   "cell_type": "code",
   "execution_count": 4,
   "metadata": {
    "scrolled": true
   },
   "outputs": [
    {
     "data": {
      "text/html": [
       "<div>\n",
       "<style scoped>\n",
       "    .dataframe tbody tr th:only-of-type {\n",
       "        vertical-align: middle;\n",
       "    }\n",
       "\n",
       "    .dataframe tbody tr th {\n",
       "        vertical-align: top;\n",
       "    }\n",
       "\n",
       "    .dataframe thead th {\n",
       "        text-align: right;\n",
       "    }\n",
       "</style>\n",
       "<table border=\"1\" class=\"dataframe\">\n",
       "  <thead>\n",
       "    <tr style=\"text-align: right;\">\n",
       "      <th></th>\n",
       "      <th>age</th>\n",
       "      <th>income</th>\n",
       "      <th>student</th>\n",
       "      <th>credit_rating</th>\n",
       "      <th>class_buys_computer</th>\n",
       "    </tr>\n",
       "  </thead>\n",
       "  <tbody>\n",
       "    <tr>\n",
       "      <td>0</td>\n",
       "      <td>youth</td>\n",
       "      <td>high</td>\n",
       "      <td>no</td>\n",
       "      <td>fair</td>\n",
       "      <td>no</td>\n",
       "    </tr>\n",
       "    <tr>\n",
       "      <td>1</td>\n",
       "      <td>youth</td>\n",
       "      <td>high</td>\n",
       "      <td>no</td>\n",
       "      <td>excellent</td>\n",
       "      <td>no</td>\n",
       "    </tr>\n",
       "    <tr>\n",
       "      <td>2</td>\n",
       "      <td>middle_aged</td>\n",
       "      <td>high</td>\n",
       "      <td>no</td>\n",
       "      <td>fair</td>\n",
       "      <td>yes</td>\n",
       "    </tr>\n",
       "    <tr>\n",
       "      <td>3</td>\n",
       "      <td>senior</td>\n",
       "      <td>medium</td>\n",
       "      <td>no</td>\n",
       "      <td>fair</td>\n",
       "      <td>yes</td>\n",
       "    </tr>\n",
       "    <tr>\n",
       "      <td>4</td>\n",
       "      <td>senior</td>\n",
       "      <td>low</td>\n",
       "      <td>yes</td>\n",
       "      <td>fair</td>\n",
       "      <td>yes</td>\n",
       "    </tr>\n",
       "  </tbody>\n",
       "</table>\n",
       "</div>"
      ],
      "text/plain": [
       "           age  income student credit_rating class_buys_computer\n",
       "0        youth    high      no          fair                  no\n",
       "1        youth    high      no     excellent                  no\n",
       "2  middle_aged    high      no          fair                 yes\n",
       "3       senior  medium      no          fair                 yes\n",
       "4       senior     low     yes          fair                 yes"
      ]
     },
     "execution_count": 4,
     "metadata": {},
     "output_type": "execute_result"
    }
   ],
   "source": [
    "pd_data.head() # 데이터 확인!"
   ]
  },
  {
   "cell_type": "markdown",
   "metadata": {},
   "source": [
    "# 1. Gini 계수를 구하는 함수 만들기"
   ]
  },
  {
   "cell_type": "markdown",
   "metadata": {},
   "source": [
    "- Input: df(데이터), label(타겟변수명)\n",
    "- 해당 결과는 아래와 같이 나와야 합니다."
   ]
  },
  {
   "cell_type": "code",
   "execution_count": 5,
   "metadata": {},
   "outputs": [],
   "source": [
    "def get_gini(df, label):\n",
    "    ratio = df[label].value_counts(normalize=True)\n",
    "    gini = 1 - (ratio ** 2).sum()    \n",
    "    return gini\n",
    "\n",
    "# gini 계수를 구하는 식을 그대로 구현한 것입니다!\n",
    "\n",
    "# 1. ratio\n",
    "# df의 label에서 값의 비율을 확인한 후,\n",
    "# normalize=TRUE를 통해 개수가 아닌 상대비율을 구합니다\n",
    "\n",
    "# 2. gini\n",
    "# gini계수는 1에서 비율의 제곱의 합(시그마)을 뺀 값이므로 그대로 구현했습니다"
   ]
  },
  {
   "cell_type": "code",
   "execution_count": 6,
   "metadata": {},
   "outputs": [
    {
     "data": {
      "text/plain": [
       "0.4591836734693877"
      ]
     },
     "execution_count": 6,
     "metadata": {},
     "output_type": "execute_result"
    }
   ],
   "source": [
    "get_gini(pd_data,'class_buys_computer')"
   ]
  },
  {
   "cell_type": "markdown",
   "metadata": {},
   "source": [
    "# 2. Feature의 Class를 이진 분류로 만들기\n",
    " ## ex) {A,B,C} -> ({A}, {B,C}), ({B}, {A,C}), ({C}, {A,B})"
   ]
  },
  {
   "cell_type": "markdown",
   "metadata": {},
   "source": [
    "- Input: df(데이터), attribute(Gini index를 구하고자 하는 변수명)\n",
    "- 해당 결과는 아래와 같이 나와야 합니다."
   ]
  },
  {
   "cell_type": "code",
   "execution_count": 7,
   "metadata": {},
   "outputs": [],
   "source": [
    "# for k in c 는 주어진 결과값과 동일한 형식으로 반환하기 위한 코드입니다!\n",
    "# itertools 활용했습니당 :)\n",
    "\n",
    "import itertools\n",
    "\n",
    "def get_binary_split(df, attribute):\n",
    "    result = []\n",
    "    \n",
    "    for i in range(len(df[attribute].value_counts())+1):\n",
    "        c = list(itertools.combinations(df[attribute].unique(), i))  #조합(combination) 뽑음\n",
    "        for  k in c:\n",
    "            result.append(list(k))\n",
    "        \n",
    "    return result[1:-1]"
   ]
  },
  {
   "cell_type": "code",
   "execution_count": 8,
   "metadata": {},
   "outputs": [
    {
     "data": {
      "text/plain": [
       "[['youth'],\n",
       " ['middle_aged'],\n",
       " ['senior'],\n",
       " ['youth', 'middle_aged'],\n",
       " ['youth', 'senior'],\n",
       " ['middle_aged', 'senior']]"
      ]
     },
     "execution_count": 8,
     "metadata": {},
     "output_type": "execute_result"
    }
   ],
   "source": [
    "get_binary_split(pd_data, \"age\")"
   ]
  },
  {
   "cell_type": "markdown",
   "metadata": {},
   "source": [
    "# 3. 다음은 모든 이진분류의 경우의 Gini index를 구하는 함수 만들기\n",
    "- 위에서 완성한 두 함수를 사용하여 만들어주세요!\n",
    "- 해당 결과는 아래와 같이 나와야 합니다.\n",
    "- 결과로 나온 Dictionary의 Key 값은 해당 class 들로 이루어진 tuple 형태로 들어가 있습니다."
   ]
  },
  {
   "cell_type": "code",
   "execution_count": 9,
   "metadata": {},
   "outputs": [],
   "source": [
    "# labe의 혼용을 막기 위해 target\n",
    "\n",
    "def get_attribute_gini_index(df, attribute, label):\n",
    "    dic = {}\n",
    "    for i in get_binary_split(df, attribute):\n",
    "        # yes\n",
    "        new_df1 = df[df[attribute].apply(lambda x: x in i)]\n",
    "        gini_1 = len(new_df1)/len(df) * get_gini(new_df1, label)\n",
    "        \n",
    "        # no\n",
    "        new_df2 = df[df[attribute].apply(lambda x: x not in i)]\n",
    "        gini_2 = len(new_df2)/len(df) * get_gini(new_df2, label)\n",
    "        \n",
    "        #gini index\n",
    "        result = gini_1 + gini_2\n",
    "        dic[tuple(i)] = result\n",
    "    \n",
    "    return dic"
   ]
  },
  {
   "cell_type": "code",
   "execution_count": 10,
   "metadata": {},
   "outputs": [
    {
     "data": {
      "text/plain": [
       "{('youth',): 0.3936507936507937,\n",
       " ('middle_aged',): 0.35714285714285715,\n",
       " ('senior',): 0.45714285714285713,\n",
       " ('youth', 'middle_aged'): 0.45714285714285713,\n",
       " ('youth', 'senior'): 0.35714285714285715,\n",
       " ('middle_aged', 'senior'): 0.3936507936507937}"
      ]
     },
     "execution_count": 10,
     "metadata": {},
     "output_type": "execute_result"
    }
   ],
   "source": [
    "get_attribute_gini_index(pd_data, \"age\", \"class_buys_computer\")"
   ]
  },
  {
   "cell_type": "markdown",
   "metadata": {},
   "source": [
    "여기서 가장 작은 Gini index값을 가지는 class를 기준으로 split해야겠죠?\n",
    "\n",
    "결과를 확인해보도록 하겠습니다."
   ]
  },
  {
   "cell_type": "code",
   "execution_count": 11,
   "metadata": {},
   "outputs": [
    {
     "name": "stdout",
     "output_type": "stream",
     "text": [
      "Min - ('middle_aged',) : 0.35714285714285715\n"
     ]
    }
   ],
   "source": [
    "my_dict = get_attribute_gini_index(pd_data, \"age\", \"class_buys_computer\")\n",
    "key_min = min(my_dict.keys(), key=(lambda k: my_dict[k]))\n",
    "print('Min -',key_min, \":\", my_dict[key_min])"
   ]
  },
  {
   "cell_type": "markdown",
   "metadata": {},
   "source": [
    "# 다음의 문제를 위에서 작성한 함수를 통해 구한 값으로 보여주세요!\n",
    "## 문제1) 변수 ‘income’의 이진분류 결과를 보여주세요.\n",
    "\n",
    "## 문제2) 분류를 하는 데 가장 중요한 변수를 선정하고, 해당 변수의 Gini index를 제시해주세요.\n",
    "\n",
    "## 문제3) 문제 2에서 제시한 feature로 DataFrame을 split한 후 나눠진 2개의 DataFrame에서 각각   다음으로 중요한 변수를 선정하고 해당 변수의 Gini index를 제시해주세요."
   ]
  },
  {
   "cell_type": "code",
   "execution_count": 12,
   "metadata": {
    "scrolled": true
   },
   "outputs": [
    {
     "data": {
      "text/plain": [
       "[['high'],\n",
       " ['medium'],\n",
       " ['low'],\n",
       " ['high', 'medium'],\n",
       " ['high', 'low'],\n",
       " ['medium', 'low']]"
      ]
     },
     "execution_count": 12,
     "metadata": {},
     "output_type": "execute_result"
    }
   ],
   "source": [
    "##문제1 답안\n",
    "get_binary_split(pd_data, \"income\")"
   ]
  },
  {
   "cell_type": "code",
   "execution_count": 13,
   "metadata": {
    "scrolled": true
   },
   "outputs": [
    {
     "name": "stdout",
     "output_type": "stream",
     "text": [
      "Min - ('middle_aged',) : 0.35714285714285715\n",
      "Min - ('high',) : 0.4428571428571429\n",
      "Min - ('no',) : 0.3673469387755103\n",
      "Min - ('fair',) : 0.42857142857142855\n"
     ]
    }
   ],
   "source": [
    "##문제2 답안\n",
    "\n",
    "my_dict = get_attribute_gini_index(pd_data, \"age\", \"class_buys_computer\")\n",
    "key_min = min(my_dict.keys(), key=(lambda k: my_dict[k]))\n",
    "print('Min -',key_min, \":\", my_dict[key_min])\n",
    "\n",
    "my_dict = get_attribute_gini_index(pd_data, \"income\", \"class_buys_computer\")\n",
    "key_min = min(my_dict.keys(), key=(lambda k: my_dict[k]))\n",
    "print('Min -',key_min, \":\", my_dict[key_min])\n",
    "\n",
    "my_dict = get_attribute_gini_index(pd_data, \"student\", \"class_buys_computer\")\n",
    "key_min = min(my_dict.keys(), key=(lambda k: my_dict[k]))\n",
    "print('Min -',key_min, \":\", my_dict[key_min])\n",
    "\n",
    "my_dict = get_attribute_gini_index(pd_data, \"credit_rating\", \"class_buys_computer\")\n",
    "key_min = min(my_dict.keys(), key=(lambda k: my_dict[k]))\n",
    "print('Min -',key_min, \":\", my_dict[key_min])"
   ]
  },
  {
   "cell_type": "markdown",
   "metadata": {},
   "source": [
    "age 변수가 가장 중요한 변수임을 알 수 있다."
   ]
  },
  {
   "cell_type": "code",
   "execution_count": 28,
   "metadata": {},
   "outputs": [
    {
     "data": {
      "text/plain": [
       "{('youth',): 0.3936507936507937,\n",
       " ('middle_aged',): 0.35714285714285715,\n",
       " ('senior',): 0.45714285714285713,\n",
       " ('youth', 'middle_aged'): 0.45714285714285713,\n",
       " ('youth', 'senior'): 0.35714285714285715,\n",
       " ('middle_aged', 'senior'): 0.3936507936507937}"
      ]
     },
     "execution_count": 28,
     "metadata": {},
     "output_type": "execute_result"
    }
   ],
   "source": [
    "get_attribute_gini_index(pd_data, \"age\", \"class_buys_computer\")"
   ]
  },
  {
   "cell_type": "code",
   "execution_count": 23,
   "metadata": {
    "scrolled": true
   },
   "outputs": [],
   "source": [
    "##문제3 답안\n",
    "\n",
    "# df 나누기\n",
    "new_df1 = pd_data[pd_data['age'].apply(lambda x: x in 'middle_aged')]\n",
    "new_df2 = pd_data[pd_data['age'].apply(lambda x: x not in 'middle_aged')]"
   ]
  },
  {
   "cell_type": "code",
   "execution_count": 24,
   "metadata": {},
   "outputs": [
    {
     "data": {
      "text/html": [
       "<div>\n",
       "<style scoped>\n",
       "    .dataframe tbody tr th:only-of-type {\n",
       "        vertical-align: middle;\n",
       "    }\n",
       "\n",
       "    .dataframe tbody tr th {\n",
       "        vertical-align: top;\n",
       "    }\n",
       "\n",
       "    .dataframe thead th {\n",
       "        text-align: right;\n",
       "    }\n",
       "</style>\n",
       "<table border=\"1\" class=\"dataframe\">\n",
       "  <thead>\n",
       "    <tr style=\"text-align: right;\">\n",
       "      <th></th>\n",
       "      <th>age</th>\n",
       "      <th>income</th>\n",
       "      <th>student</th>\n",
       "      <th>credit_rating</th>\n",
       "      <th>class_buys_computer</th>\n",
       "    </tr>\n",
       "  </thead>\n",
       "  <tbody>\n",
       "    <tr>\n",
       "      <td>0</td>\n",
       "      <td>youth</td>\n",
       "      <td>high</td>\n",
       "      <td>no</td>\n",
       "      <td>fair</td>\n",
       "      <td>no</td>\n",
       "    </tr>\n",
       "    <tr>\n",
       "      <td>1</td>\n",
       "      <td>youth</td>\n",
       "      <td>high</td>\n",
       "      <td>no</td>\n",
       "      <td>excellent</td>\n",
       "      <td>no</td>\n",
       "    </tr>\n",
       "    <tr>\n",
       "      <td>2</td>\n",
       "      <td>middle_aged</td>\n",
       "      <td>high</td>\n",
       "      <td>no</td>\n",
       "      <td>fair</td>\n",
       "      <td>yes</td>\n",
       "    </tr>\n",
       "    <tr>\n",
       "      <td>3</td>\n",
       "      <td>senior</td>\n",
       "      <td>medium</td>\n",
       "      <td>no</td>\n",
       "      <td>fair</td>\n",
       "      <td>yes</td>\n",
       "    </tr>\n",
       "    <tr>\n",
       "      <td>4</td>\n",
       "      <td>senior</td>\n",
       "      <td>low</td>\n",
       "      <td>yes</td>\n",
       "      <td>fair</td>\n",
       "      <td>yes</td>\n",
       "    </tr>\n",
       "    <tr>\n",
       "      <td>5</td>\n",
       "      <td>senior</td>\n",
       "      <td>low</td>\n",
       "      <td>yes</td>\n",
       "      <td>excellent</td>\n",
       "      <td>no</td>\n",
       "    </tr>\n",
       "    <tr>\n",
       "      <td>6</td>\n",
       "      <td>middle_aged</td>\n",
       "      <td>low</td>\n",
       "      <td>yes</td>\n",
       "      <td>excellent</td>\n",
       "      <td>yes</td>\n",
       "    </tr>\n",
       "    <tr>\n",
       "      <td>7</td>\n",
       "      <td>youth</td>\n",
       "      <td>medium</td>\n",
       "      <td>no</td>\n",
       "      <td>fair</td>\n",
       "      <td>no</td>\n",
       "    </tr>\n",
       "    <tr>\n",
       "      <td>8</td>\n",
       "      <td>youth</td>\n",
       "      <td>low</td>\n",
       "      <td>yes</td>\n",
       "      <td>fair</td>\n",
       "      <td>yes</td>\n",
       "    </tr>\n",
       "    <tr>\n",
       "      <td>9</td>\n",
       "      <td>senior</td>\n",
       "      <td>medium</td>\n",
       "      <td>yes</td>\n",
       "      <td>fair</td>\n",
       "      <td>yes</td>\n",
       "    </tr>\n",
       "    <tr>\n",
       "      <td>10</td>\n",
       "      <td>youth</td>\n",
       "      <td>medium</td>\n",
       "      <td>yes</td>\n",
       "      <td>excellent</td>\n",
       "      <td>yes</td>\n",
       "    </tr>\n",
       "    <tr>\n",
       "      <td>11</td>\n",
       "      <td>middle_aged</td>\n",
       "      <td>medium</td>\n",
       "      <td>no</td>\n",
       "      <td>excellent</td>\n",
       "      <td>yes</td>\n",
       "    </tr>\n",
       "    <tr>\n",
       "      <td>12</td>\n",
       "      <td>middle_aged</td>\n",
       "      <td>high</td>\n",
       "      <td>yes</td>\n",
       "      <td>fair</td>\n",
       "      <td>yes</td>\n",
       "    </tr>\n",
       "    <tr>\n",
       "      <td>13</td>\n",
       "      <td>senior</td>\n",
       "      <td>medium</td>\n",
       "      <td>no</td>\n",
       "      <td>excellent</td>\n",
       "      <td>no</td>\n",
       "    </tr>\n",
       "  </tbody>\n",
       "</table>\n",
       "</div>"
      ],
      "text/plain": [
       "            age  income student credit_rating class_buys_computer\n",
       "0         youth    high      no          fair                  no\n",
       "1         youth    high      no     excellent                  no\n",
       "2   middle_aged    high      no          fair                 yes\n",
       "3        senior  medium      no          fair                 yes\n",
       "4        senior     low     yes          fair                 yes\n",
       "5        senior     low     yes     excellent                  no\n",
       "6   middle_aged     low     yes     excellent                 yes\n",
       "7         youth  medium      no          fair                  no\n",
       "8         youth     low     yes          fair                 yes\n",
       "9        senior  medium     yes          fair                 yes\n",
       "10        youth  medium     yes     excellent                 yes\n",
       "11  middle_aged  medium      no     excellent                 yes\n",
       "12  middle_aged    high     yes          fair                 yes\n",
       "13       senior  medium      no     excellent                  no"
      ]
     },
     "execution_count": 24,
     "metadata": {},
     "output_type": "execute_result"
    }
   ],
   "source": [
    "pd_data"
   ]
  },
  {
   "cell_type": "code",
   "execution_count": 25,
   "metadata": {},
   "outputs": [
    {
     "name": "stdout",
     "output_type": "stream",
     "text": [
      "Min - ('high',) : 0.0\n",
      "Min - ('no',) : 0.0\n",
      "Min - ('fair',) : 0.0\n"
     ]
    }
   ],
   "source": [
    "# 1. new_df1 : 결과값이 0 \n",
    "\n",
    "my_dict = get_attribute_gini_index(new_df1, \"income\", \"class_buys_computer\")\n",
    "key_min = min(my_dict.keys(), key=(lambda k: my_dict[k]))\n",
    "print('Min -',key_min, \":\", my_dict[key_min])\n",
    "\n",
    "my_dict = get_attribute_gini_index(new_df1, \"student\", \"class_buys_computer\")\n",
    "key_min = min(my_dict.keys(), key=(lambda k: my_dict[k]))\n",
    "print('Min -',key_min, \":\", my_dict[key_min])\n",
    "\n",
    "my_dict = get_attribute_gini_index(new_df1, \"credit_rating\", \"class_buys_computer\")\n",
    "key_min = min(my_dict.keys(), key=(lambda k: my_dict[k]))\n",
    "print('Min -',key_min, \":\", my_dict[key_min])"
   ]
  },
  {
   "cell_type": "code",
   "execution_count": 27,
   "metadata": {
    "scrolled": true
   },
   "outputs": [
    {
     "name": "stdout",
     "output_type": "stream",
     "text": [
      "Min - ('high',) : 0.375\n",
      "Min - ('no',) : 0.31999999999999984\n",
      "Min - ('fair',) : 0.4166666666666667\n"
     ]
    }
   ],
   "source": [
    "# 2. new_df2\n",
    "\n",
    "my_dict = get_attribute_gini_index(new_df2, \"income\", \"class_buys_computer\")\n",
    "key_min = min(my_dict.keys(), key=(lambda k: my_dict[k]))\n",
    "print('Min -',key_min, \":\", my_dict[key_min])\n",
    "\n",
    "my_dict = get_attribute_gini_index(new_df2, \"student\", \"class_buys_computer\")\n",
    "key_min = min(my_dict.keys(), key=(lambda k: my_dict[k]))\n",
    "print('Min -',key_min, \":\", my_dict[key_min])\n",
    "\n",
    "my_dict = get_attribute_gini_index(new_df2, \"credit_rating\", \"class_buys_computer\")\n",
    "key_min = min(my_dict.keys(), key=(lambda k: my_dict[k]))\n",
    "print('Min -',key_min, \":\", my_dict[key_min])"
   ]
  },
  {
   "cell_type": "code",
   "execution_count": 29,
   "metadata": {},
   "outputs": [
    {
     "data": {
      "text/plain": [
       "{('high',): 0.4428571428571429,\n",
       " ('medium',): 0.4583333333333333,\n",
       " ('low',): 0.45,\n",
       " ('high', 'medium'): 0.45,\n",
       " ('high', 'low'): 0.4583333333333333,\n",
       " ('medium', 'low'): 0.4428571428571429}"
      ]
     },
     "execution_count": 29,
     "metadata": {},
     "output_type": "execute_result"
    }
   ],
   "source": [
    "get_attribute_gini_index(pd_data, \"income\", \"class_buys_computer\")"
   ]
  }
 ],
 "metadata": {
  "kernelspec": {
   "display_name": "Python 3",
   "language": "python",
   "name": "python3"
  },
  "language_info": {
   "codemirror_mode": {
    "name": "ipython",
    "version": 3
   },
   "file_extension": ".py",
   "mimetype": "text/x-python",
   "name": "python",
   "nbconvert_exporter": "python",
   "pygments_lexer": "ipython3",
   "version": "3.7.4"
  }
 },
 "nbformat": 4,
 "nbformat_minor": 4
}
