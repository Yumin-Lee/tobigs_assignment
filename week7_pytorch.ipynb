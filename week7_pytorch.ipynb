{
  "nbformat": 4,
  "nbformat_minor": 0,
  "metadata": {
    "colab": {
      "name": "week7_pytorch.ipynb",
      "provenance": [],
      "collapsed_sections": []
    },
    "kernelspec": {
      "name": "python3",
      "display_name": "Python 3"
    },
    "accelerator": "GPU"
  },
  "cells": [
    {
      "cell_type": "markdown",
      "metadata": {
        "id": "dC4TNKR6gM75",
        "colab_type": "text"
      },
      "source": [
        "# **Week7. Framework assignment (pytorch)**\n",
        "13기 이유민\n",
        "\n",
        "---"
      ]
    },
    {
      "cell_type": "markdown",
      "metadata": {
        "id": "utnGzqR5gpMO",
        "colab_type": "text"
      },
      "source": [
        "## **신경망 학습 과정**\n",
        "\n",
        "1. 신경망 정의\n",
        "2. 데이터셋 입력 (반복해서!)\n",
        "3. 입력된 데이터셋을 신경망에서 전파\n",
        "4. loss 계산 (출력된 값과 정답의 차이)\n",
        "5. 그라디언트를 역전파\n",
        "6. 가중치 갱신\n",
        "   \n",
        "   규칙: weight = weight - learning_rate * gradient\n",
        "\n",
        "+) torch.nn 패키지는 autograd로 모델을 정의& 미분함.\n",
        "\n",
        "backward는 autograd를 통해 자동으로 정의되기 때문에 따로 정의하지 않음\n",
        "\n",
        "\n",
        "  ---"
      ]
    },
    {
      "cell_type": "markdown",
      "metadata": {
        "id": "2QSaGCfWgeiV",
        "colab_type": "text"
      },
      "source": [
        "## **기본 설정**"
      ]
    },
    {
      "cell_type": "code",
      "metadata": {
        "id": "UrNtegoXWavs",
        "colab_type": "code",
        "outputId": "4edbeaaf-7ed4-4d62-ca82-7dcc4b900484",
        "colab": {
          "base_uri": "https://localhost:8080/",
          "height": 36
        }
      },
      "source": [
        "cd/content/drive/My Drive/tobigs"
      ],
      "execution_count": 1,
      "outputs": [
        {
          "output_type": "stream",
          "text": [
            "/content/drive/My Drive/tobigs\n"
          ],
          "name": "stdout"
        }
      ]
    },
    {
      "cell_type": "code",
      "metadata": {
        "id": "5_5NqSZiXicX",
        "colab_type": "code",
        "outputId": "a9c231fb-2f74-404b-940e-6feebbc1e4bf",
        "colab": {
          "base_uri": "https://localhost:8080/",
          "height": 128
        }
      },
      "source": [
        "ls"
      ],
      "execution_count": 2,
      "outputs": [
        {
          "output_type": "stream",
          "text": [
            "8.67torch_submission.csv     radam_submission3.csv  train_df.csv\n",
            "8.67torch_submission.gsheet  radam_submission.csv   train_df.csv.zip\n",
            "kaggle.json                  sample_submission.csv  Untitled0.ipynb\n",
            "keras_sample.csv             test_df.csv            Week7_Keras.ipynb\n",
            "radam_submission1.csv        test_df.csv.zip        week7_pytorch.ipynb\n",
            "radam_submission2.csv        torch_submission.csv\n"
          ],
          "name": "stdout"
        }
      ]
    },
    {
      "cell_type": "markdown",
      "metadata": {
        "id": "Kmo53l3GXy3Z",
        "colab_type": "text"
      },
      "source": [
        "## **데이터 전처리**"
      ]
    },
    {
      "cell_type": "code",
      "metadata": {
        "id": "sP-lh17xXldi",
        "colab_type": "code",
        "colab": {}
      },
      "source": [
        "import pandas as pd\n",
        "\n",
        "sample_submission = pd.read_csv(\"sample_submission.csv\")\n",
        "train = pd.read_csv(\"train_df.csv\")\n",
        "test = pd.read_csv(\"test_df.csv\")"
      ],
      "execution_count": 0,
      "outputs": []
    },
    {
      "cell_type": "code",
      "metadata": {
        "id": "oPfBNXfnXnh8",
        "colab_type": "code",
        "colab": {}
      },
      "source": [
        "X = train.iloc[:,1:].values / 255\n",
        "X_test = test.iloc[:,1:].values / 255 # 픽셀값인 255로 나눠줍니당\n",
        "\n",
        "y = train.iloc[:,0].values"
      ],
      "execution_count": 0,
      "outputs": []
    },
    {
      "cell_type": "markdown",
      "metadata": {
        "id": "5MVVwcqaX8dU",
        "colab_type": "text"
      },
      "source": [
        "## **Dataset 정의**"
      ]
    },
    {
      "cell_type": "code",
      "metadata": {
        "id": "MCiu2g1PX7Z_",
        "colab_type": "code",
        "colab": {}
      },
      "source": [
        "from torch.utils.data import Dataset, DataLoader\n",
        "\n",
        "class TrainDataset(Dataset):\n",
        "    def __init__(self, X, y, transform=None):\n",
        "        self.X = X\n",
        "        self.y = y\n",
        "        self.transform = transform\n",
        "    \n",
        "    def __len__(self):\n",
        "        return len(self.X)\n",
        "    \n",
        "    def __getitem__(self, idx):\n",
        "        X = self.X[idx]\n",
        "        y = self.y[idx]\n",
        "        return X, y"
      ],
      "execution_count": 0,
      "outputs": []
    },
    {
      "cell_type": "code",
      "metadata": {
        "id": "N1yYKhWrYEEw",
        "colab_type": "code",
        "colab": {}
      },
      "source": [
        "class TestDataset(Dataset):\n",
        "    def __init__(self, X, y, transform=None):\n",
        "        self.X = X\n",
        "        self.y = y\n",
        "        self.transform = transform\n",
        "    \n",
        "    def __len__(self):\n",
        "        return len(self.X)\n",
        "    \n",
        "    def __getitem__(self, idx):\n",
        "        X = self.X[idx]\n",
        "        return X"
      ],
      "execution_count": 0,
      "outputs": []
    },
    {
      "cell_type": "markdown",
      "metadata": {
        "id": "7Gf3nS1DYIxJ",
        "colab_type": "text"
      },
      "source": [
        "## **Loader 정의**"
      ]
    },
    {
      "cell_type": "code",
      "metadata": {
        "id": "1ePbcb8VacMb",
        "colab_type": "code",
        "colab": {}
      },
      "source": [
        "traindataloader = DataLoader(TrainDataset(X, y), batch_size=128, shuffle=True, num_workers=4) \n",
        " # 배치 사이즈만큼 데이터 가져 옴!\n",
        "# train 은 섞어 주는 게 적절함 (test는 섞지 않음!))\n",
        "testdataloader = DataLoader(TestDataset(X_test, y=None), batch_size=4, shuffle=False, num_workers=4) "
      ],
      "execution_count": 0,
      "outputs": []
    },
    {
      "cell_type": "markdown",
      "metadata": {
        "id": "EDHGjepPdZQs",
        "colab_type": "text"
      },
      "source": [
        "## **신경망 정의**"
      ]
    },
    {
      "cell_type": "markdown",
      "metadata": {
        "id": "bo-7w-INdw-s",
        "colab_type": "text"
      },
      "source": [
        "+) 이번 과제에서 사용하지는 않았지만, auto incoder는 convolution 연산을 통해 이미지를 압축함.\n",
        "\n",
        "  보통 2의 배수로 사이즈를 정해 주는 경우가 많은데, 이는 원래 사이즈로 복원할 때 2의 배수가 효율적이기 때문!\n",
        "\n",
        "\n",
        "+) 출력할 때 softmax를 적용시키지 않는 건 nn.CrossEntropy Loss가 소프트맥스를 통과시킨 y와 Loss를 알아서 계산해 주기 때문임!"
      ]
    },
    {
      "cell_type": "code",
      "metadata": {
        "id": "pHEQ1SqDa72f",
        "colab_type": "code",
        "outputId": "4f5394b7-b659-433d-f3c3-df9c0d904f14",
        "colab": {
          "base_uri": "https://localhost:8080/",
          "height": 184
        }
      },
      "source": [
        "import torch.nn as nn\n",
        "import torch.nn.functional as F\n",
        "import torch\n",
        "\n",
        "class Net(nn.Module):\n",
        "\n",
        "    # 데이터셋 만들 때 들어가는 인자들\n",
        "    def __init__(self): \n",
        "        super(Net, self).__init__()\n",
        "        self.fc1 = nn.Linear(784, 512) # mnist는 784 \n",
        "        self.fc2 = nn.Linear(512, 128)\n",
        "        self.fc3 = nn.Linear(128, 256)\n",
        "        self.fc4 = nn.Linear(256, 10)\n",
        "        self.elu = nn.ELU()\n",
        "        self.dropout1 = torch.nn.Dropout(p=0.5)\n",
        "        self.dropout2 = torch.nn.Dropout(p=0.5)\n",
        "\n",
        "    # Activation function\n",
        "    def forward(self, x):\n",
        "        x = self.fc1(x)\n",
        "        x = self.fc2(F.relu(x))\n",
        "        x = self.dropout1(x)   # dropout을 통해 regulation\n",
        "        x = self.fc3(self.elu(x))\n",
        "        x = self.dropout2(x)\n",
        "        x = self.fc4(x)\n",
        "        return x\n",
        "\n",
        "\n",
        "net = Net() # dictionary 형태\n",
        "print(net) # 확인!"
      ],
      "execution_count": 8,
      "outputs": [
        {
          "output_type": "stream",
          "text": [
            "Net(\n",
            "  (fc1): Linear(in_features=784, out_features=512, bias=True)\n",
            "  (fc2): Linear(in_features=512, out_features=128, bias=True)\n",
            "  (fc3): Linear(in_features=128, out_features=256, bias=True)\n",
            "  (fc4): Linear(in_features=256, out_features=10, bias=True)\n",
            "  (elu): ELU(alpha=1.0)\n",
            "  (dropout1): Dropout(p=0.5, inplace=False)\n",
            "  (dropout2): Dropout(p=0.5, inplace=False)\n",
            ")\n"
          ],
          "name": "stdout"
        }
      ]
    },
    {
      "cell_type": "markdown",
      "metadata": {
        "id": "_MoYWLkvek9i",
        "colab_type": "text"
      },
      "source": [
        "torch.optim 패키지를 통해 갱신 규칙 구현 가능"
      ]
    },
    {
      "cell_type": "code",
      "metadata": {
        "id": "rJaouPkcdTqe",
        "colab_type": "code",
        "colab": {}
      },
      "source": [
        "import torch.optim as optim # optimizer 함수들\n",
        "\n",
        "criterion = nn.CrossEntropyLoss()\n",
        "optimizer = optim.Adam(net.parameters(), lr=0.0001, weight_decay=1e-3)"
      ],
      "execution_count": 0,
      "outputs": []
    },
    {
      "cell_type": "code",
      "metadata": {
        "id": "3KplN0IPe_dM",
        "colab_type": "code",
        "outputId": "bfcdf663-1bd9-4564-ac86-be5a4eef17f0",
        "colab": {
          "base_uri": "https://localhost:8080/",
          "height": 36
        }
      },
      "source": [
        "device = torch.device(\"cuda:0\" if torch.cuda.is_available() else \"cpu\")\n",
        "device"
      ],
      "execution_count": 10,
      "outputs": [
        {
          "output_type": "execute_result",
          "data": {
            "text/plain": [
              "device(type='cuda', index=0)"
            ]
          },
          "metadata": {
            "tags": []
          },
          "execution_count": 10
        }
      ]
    },
    {
      "cell_type": "code",
      "metadata": {
        "id": "NoRQT4_SfAuf",
        "colab_type": "code",
        "outputId": "96c37764-b50b-4a72-8928-1a4611076af7",
        "colab": {
          "base_uri": "https://localhost:8080/",
          "height": 184
        }
      },
      "source": [
        "net.to(device)"
      ],
      "execution_count": 11,
      "outputs": [
        {
          "output_type": "execute_result",
          "data": {
            "text/plain": [
              "Net(\n",
              "  (fc1): Linear(in_features=784, out_features=512, bias=True)\n",
              "  (fc2): Linear(in_features=512, out_features=128, bias=True)\n",
              "  (fc3): Linear(in_features=128, out_features=256, bias=True)\n",
              "  (fc4): Linear(in_features=256, out_features=10, bias=True)\n",
              "  (elu): ELU(alpha=1.0)\n",
              "  (dropout1): Dropout(p=0.5, inplace=False)\n",
              "  (dropout2): Dropout(p=0.5, inplace=False)\n",
              ")"
            ]
          },
          "metadata": {
            "tags": []
          },
          "execution_count": 11
        }
      ]
    },
    {
      "cell_type": "code",
      "metadata": {
        "id": "LxonmE4ufCKK",
        "colab_type": "code",
        "outputId": "239148c0-c48b-4ce6-cc24-5cd49546f3eb",
        "colab": {
          "base_uri": "https://localhost:8080/",
          "height": 687
        }
      },
      "source": [
        "num_epochs = 30\n",
        "for epoch in range(num_epochs):  # loop over the dataset multiple times\n",
        "\n",
        "    running_loss = 0.0\n",
        "    for i, data in enumerate(traindataloader):\n",
        "        inputs, labels = data\n",
        "        inputs = torch.tensor(inputs, device=device).float()\n",
        "        labels = torch.tensor(labels, device=device)\n",
        "\n",
        "        # zero the parameter gradients\n",
        "        optimizer.zero_grad()\n",
        "        # print(type(inputs), type(labels), type(outputs))\n",
        "        # forward + backward + optimize\n",
        "        outputs = net(inputs)\n",
        "        # print(type(inputs), type(labels), type(outputs))\n",
        "        \n",
        "        loss = criterion(outputs, labels)\n",
        "         # 여기서 loss는 crossentropy로 계산\n",
        "        loss.backward()\n",
        "        # backward에서 backpropagation 을 통해 gradient 계산\n",
        "\n",
        "        optimizer.step()\n",
        "\n",
        "        # print statistics\n",
        "        running_loss += loss.item()\n",
        "    print(\"Epoch : {} loss: {}\".format(epoch, running_loss))\n",
        "print('Finished Training')"
      ],
      "execution_count": 12,
      "outputs": [
        {
          "output_type": "stream",
          "text": [
            "/usr/local/lib/python3.6/dist-packages/ipykernel_launcher.py:7: UserWarning: To copy construct from a tensor, it is recommended to use sourceTensor.clone().detach() or sourceTensor.clone().detach().requires_grad_(True), rather than torch.tensor(sourceTensor).\n",
            "  import sys\n",
            "/usr/local/lib/python3.6/dist-packages/ipykernel_launcher.py:8: UserWarning: To copy construct from a tensor, it is recommended to use sourceTensor.clone().detach() or sourceTensor.clone().detach().requires_grad_(True), rather than torch.tensor(sourceTensor).\n",
            "  \n"
          ],
          "name": "stderr"
        },
        {
          "output_type": "stream",
          "text": [
            "Epoch : 0 loss: 313.64913798868656\n",
            "Epoch : 1 loss: 74.48248929530382\n",
            "Epoch : 2 loss: 56.81258722394705\n",
            "Epoch : 3 loss: 48.90183378756046\n",
            "Epoch : 4 loss: 43.11422214657068\n",
            "Epoch : 5 loss: 38.83926794305444\n",
            "Epoch : 6 loss: 35.39365341514349\n",
            "Epoch : 7 loss: 32.26212779805064\n",
            "Epoch : 8 loss: 29.46916787698865\n",
            "Epoch : 9 loss: 26.843082256615162\n",
            "Epoch : 10 loss: 25.115593686699867\n",
            "Epoch : 11 loss: 22.739564958959818\n",
            "Epoch : 12 loss: 21.206433007493615\n",
            "Epoch : 13 loss: 19.35347837768495\n",
            "Epoch : 14 loss: 17.964565010741353\n",
            "Epoch : 15 loss: 16.964374106377363\n",
            "Epoch : 16 loss: 16.217251947149634\n",
            "Epoch : 17 loss: 14.606696631759405\n",
            "Epoch : 18 loss: 13.845450356602669\n",
            "Epoch : 19 loss: 13.066611418500543\n",
            "Epoch : 20 loss: 12.311219248920679\n",
            "Epoch : 21 loss: 11.59735669568181\n",
            "Epoch : 22 loss: 10.879574364051223\n",
            "Epoch : 23 loss: 10.846230681985617\n",
            "Epoch : 24 loss: 10.128522692248225\n",
            "Epoch : 25 loss: 9.718724505975842\n",
            "Epoch : 26 loss: 9.33764842711389\n",
            "Epoch : 27 loss: 8.986123587936163\n",
            "Epoch : 28 loss: 8.610956711694598\n",
            "Epoch : 29 loss: 8.486889699473977\n",
            "Finished Training\n"
          ],
          "name": "stdout"
        }
      ]
    },
    {
      "cell_type": "code",
      "metadata": {
        "id": "UZBcQrDHfdgy",
        "colab_type": "code",
        "outputId": "2da2df7d-adc0-4a00-b8c8-437bb36a98ab",
        "colab": {
          "base_uri": "https://localhost:8080/",
          "height": 74
        }
      },
      "source": [
        "correct = 0\n",
        "total = 0\n",
        "net.eval()\n",
        "preds = []\n",
        "with torch.no_grad():\n",
        "    for data in testdataloader:\n",
        "        inputs = data\n",
        "        inputs = torch.tensor(inputs, device=device).float()\n",
        "        outputs = net(inputs)\n",
        "        _, predicted = torch.max(outputs.data, 1)\n",
        "        for pred in predicted:\n",
        "          preds.append(pred.cpu().numpy())"
      ],
      "execution_count": 13,
      "outputs": [
        {
          "output_type": "stream",
          "text": [
            "/usr/local/lib/python3.6/dist-packages/ipykernel_launcher.py:8: UserWarning: To copy construct from a tensor, it is recommended to use sourceTensor.clone().detach() or sourceTensor.clone().detach().requires_grad_(True), rather than torch.tensor(sourceTensor).\n",
            "  \n"
          ],
          "name": "stderr"
        }
      ]
    },
    {
      "cell_type": "code",
      "metadata": {
        "id": "h1G2rXeBfLTQ",
        "colab_type": "code",
        "outputId": "6cf70a61-00c5-4e67-d6c8-35700eb1ccb4",
        "colab": {
          "base_uri": "https://localhost:8080/",
          "height": 203
        }
      },
      "source": [
        "preds[:10]"
      ],
      "execution_count": 14,
      "outputs": [
        {
          "output_type": "execute_result",
          "data": {
            "text/plain": [
              "[array(8),\n",
              " array(0),\n",
              " array(5),\n",
              " array(3),\n",
              " array(8),\n",
              " array(1),\n",
              " array(9),\n",
              " array(6),\n",
              " array(6),\n",
              " array(0)]"
            ]
          },
          "metadata": {
            "tags": []
          },
          "execution_count": 14
        }
      ]
    },
    {
      "cell_type": "code",
      "metadata": {
        "id": "ApDKyWDQfEFW",
        "colab_type": "code",
        "outputId": "eccebd30-dd6e-453d-81aa-218aceec8fc5",
        "colab": {
          "base_uri": "https://localhost:8080/",
          "height": 36
        }
      },
      "source": [
        "import numpy as np\n",
        "preds = np.array(preds)\n",
        "print(preds.shape)"
      ],
      "execution_count": 15,
      "outputs": [
        {
          "output_type": "stream",
          "text": [
            "(18000,)\n"
          ],
          "name": "stdout"
        }
      ]
    },
    {
      "cell_type": "code",
      "metadata": {
        "id": "BimHY2oMfOF5",
        "colab_type": "code",
        "outputId": "9113dce9-fef4-43cf-a1c8-9f4fa17bc263",
        "colab": {
          "base_uri": "https://localhost:8080/",
          "height": 649
        }
      },
      "source": [
        "sample_submission[\"Category\"] = pd.Series(preds)\n",
        "sample_submission.head(20)"
      ],
      "execution_count": 16,
      "outputs": [
        {
          "output_type": "execute_result",
          "data": {
            "text/html": [
              "<div>\n",
              "<style scoped>\n",
              "    .dataframe tbody tr th:only-of-type {\n",
              "        vertical-align: middle;\n",
              "    }\n",
              "\n",
              "    .dataframe tbody tr th {\n",
              "        vertical-align: top;\n",
              "    }\n",
              "\n",
              "    .dataframe thead th {\n",
              "        text-align: right;\n",
              "    }\n",
              "</style>\n",
              "<table border=\"1\" class=\"dataframe\">\n",
              "  <thead>\n",
              "    <tr style=\"text-align: right;\">\n",
              "      <th></th>\n",
              "      <th>Id</th>\n",
              "      <th>Category</th>\n",
              "    </tr>\n",
              "  </thead>\n",
              "  <tbody>\n",
              "    <tr>\n",
              "      <th>0</th>\n",
              "      <td>57808</td>\n",
              "      <td>8</td>\n",
              "    </tr>\n",
              "    <tr>\n",
              "      <th>1</th>\n",
              "      <td>4960</td>\n",
              "      <td>0</td>\n",
              "    </tr>\n",
              "    <tr>\n",
              "      <th>2</th>\n",
              "      <td>35755</td>\n",
              "      <td>5</td>\n",
              "    </tr>\n",
              "    <tr>\n",
              "      <th>3</th>\n",
              "      <td>15543</td>\n",
              "      <td>3</td>\n",
              "    </tr>\n",
              "    <tr>\n",
              "      <th>4</th>\n",
              "      <td>48968</td>\n",
              "      <td>8</td>\n",
              "    </tr>\n",
              "    <tr>\n",
              "      <th>5</th>\n",
              "      <td>55461</td>\n",
              "      <td>1</td>\n",
              "    </tr>\n",
              "    <tr>\n",
              "      <th>6</th>\n",
              "      <td>19499</td>\n",
              "      <td>9</td>\n",
              "    </tr>\n",
              "    <tr>\n",
              "      <th>7</th>\n",
              "      <td>49696</td>\n",
              "      <td>6</td>\n",
              "    </tr>\n",
              "    <tr>\n",
              "      <th>8</th>\n",
              "      <td>40176</td>\n",
              "      <td>6</td>\n",
              "    </tr>\n",
              "    <tr>\n",
              "      <th>9</th>\n",
              "      <td>39480</td>\n",
              "      <td>0</td>\n",
              "    </tr>\n",
              "    <tr>\n",
              "      <th>10</th>\n",
              "      <td>50688</td>\n",
              "      <td>8</td>\n",
              "    </tr>\n",
              "    <tr>\n",
              "      <th>11</th>\n",
              "      <td>36754</td>\n",
              "      <td>4</td>\n",
              "    </tr>\n",
              "    <tr>\n",
              "      <th>12</th>\n",
              "      <td>16696</td>\n",
              "      <td>6</td>\n",
              "    </tr>\n",
              "    <tr>\n",
              "      <th>13</th>\n",
              "      <td>45290</td>\n",
              "      <td>0</td>\n",
              "    </tr>\n",
              "    <tr>\n",
              "      <th>14</th>\n",
              "      <td>58770</td>\n",
              "      <td>0</td>\n",
              "    </tr>\n",
              "    <tr>\n",
              "      <th>15</th>\n",
              "      <td>58111</td>\n",
              "      <td>1</td>\n",
              "    </tr>\n",
              "    <tr>\n",
              "      <th>16</th>\n",
              "      <td>56381</td>\n",
              "      <td>1</td>\n",
              "    </tr>\n",
              "    <tr>\n",
              "      <th>17</th>\n",
              "      <td>47007</td>\n",
              "      <td>7</td>\n",
              "    </tr>\n",
              "    <tr>\n",
              "      <th>18</th>\n",
              "      <td>51136</td>\n",
              "      <td>6</td>\n",
              "    </tr>\n",
              "    <tr>\n",
              "      <th>19</th>\n",
              "      <td>45237</td>\n",
              "      <td>7</td>\n",
              "    </tr>\n",
              "  </tbody>\n",
              "</table>\n",
              "</div>"
            ],
            "text/plain": [
              "       Id  Category\n",
              "0   57808         8\n",
              "1    4960         0\n",
              "2   35755         5\n",
              "3   15543         3\n",
              "4   48968         8\n",
              "5   55461         1\n",
              "6   19499         9\n",
              "7   49696         6\n",
              "8   40176         6\n",
              "9   39480         0\n",
              "10  50688         8\n",
              "11  36754         4\n",
              "12  16696         6\n",
              "13  45290         0\n",
              "14  58770         0\n",
              "15  58111         1\n",
              "16  56381         1\n",
              "17  47007         7\n",
              "18  51136         6\n",
              "19  45237         7"
            ]
          },
          "metadata": {
            "tags": []
          },
          "execution_count": 16
        }
      ]
    },
    {
      "cell_type": "code",
      "metadata": {
        "id": "PvvKQAVbfQL0",
        "colab_type": "code",
        "colab": {}
      },
      "source": [
        "# 제출 파일 저장\n",
        "sample_submission.to_csv(\"torch_submission.csv\", index=False)"
      ],
      "execution_count": 0,
      "outputs": []
    },
    {
      "cell_type": "code",
      "metadata": {
        "id": "fEVFUd4A4z_D",
        "colab_type": "code",
        "colab": {}
      },
      "source": [
        ""
      ],
      "execution_count": 0,
      "outputs": []
    }
  ]
}