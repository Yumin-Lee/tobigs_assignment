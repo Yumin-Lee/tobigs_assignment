{
 "cells": [
  {
   "cell_type": "code",
   "execution_count": 1,
   "metadata": {},
   "outputs": [
    {
     "name": "stdout",
     "output_type": "stream",
     "text": [
      "0         setosa\n",
      "1         setosa\n",
      "2         setosa\n",
      "3         setosa\n",
      "4         setosa\n",
      "         ...    \n",
      "145    virginica\n",
      "146    virginica\n",
      "147    virginica\n",
      "148    virginica\n",
      "149    virginica\n",
      "Name: species, Length: 150, dtype: object\n"
     ]
    }
   ],
   "source": [
    "import numpy as np\n",
    "import pandas as pd\n",
    "import matplotlib.pyplot as plt\n",
    "import seaborn as sns\n",
    "from sklearn.svm import SVC\n",
    "from sklearn.model_selection import train_test_split\n",
    "from sklearn.pipeline import Pipeline\n",
    "from sklearn.preprocessing import StandardScaler\n",
    "\n",
    "#IRIS 데이터 로드\n",
    "iris =  sns.load_dataset('iris') \n",
    "X= iris.iloc[:,:4] #학습할 데이터\n",
    "y = iris.iloc[:,-1] #타겟\n",
    "print(y)"
   ]
  },
  {
   "cell_type": "code",
   "execution_count": 2,
   "metadata": {},
   "outputs": [],
   "source": [
    "# 스케일링\n",
    "scal = StandardScaler()\n",
    "X = scal.fit_transform(X)"
   ]
  },
  {
   "cell_type": "code",
   "execution_count": 3,
   "metadata": {},
   "outputs": [
    {
     "name": "stdout",
     "output_type": "stream",
     "text": [
      "0         setosa\n",
      "1         setosa\n",
      "2         setosa\n",
      "3         setosa\n",
      "4         setosa\n",
      "         ...    \n",
      "145    virginica\n",
      "146    virginica\n",
      "147    virginica\n",
      "148    virginica\n",
      "149    virginica\n",
      "Name: species, Length: 150, dtype: object\n"
     ]
    }
   ],
   "source": [
    "print(y)"
   ]
  },
  {
   "cell_type": "code",
   "execution_count": 4,
   "metadata": {},
   "outputs": [
    {
     "data": {
      "text/plain": [
       "array(['setosa', 'versicolor', 'virginica'], dtype=object)"
      ]
     },
     "execution_count": 4,
     "metadata": {},
     "output_type": "execute_result"
    }
   ],
   "source": [
    "y.unique() # -> 3개의 머신 need!"
   ]
  },
  {
   "cell_type": "code",
   "execution_count": 5,
   "metadata": {},
   "outputs": [],
   "source": [
    "# One Versus Rest 구현을 위해 \n",
    "# class가 0인것과 아닌것을 구분하기위한 machine, class가 1인것과 아닌 것을 구분하기 위한 머신 등을 미리만들어줌\n",
    "svm_1 = SVC(kernel ='rbf', C = 5, gamma = 5) #setosa\n",
    "svm_2 = SVC(kernel ='rbf', C = 5, gamma = 5) #versicolor\n",
    "svm_3 = SVC(kernel ='rbf', C = 5, gamma = 5) #virginica"
   ]
  },
  {
   "cell_type": "code",
   "execution_count": 6,
   "metadata": {},
   "outputs": [],
   "source": [
    "from sklearn.model_selection import train_test_split # test & train 데이터로 분리\n",
    "X_train, X_test, y_train, y_test = train_test_split(X, y, test_size=0.2, random_state=48)"
   ]
  },
  {
   "cell_type": "code",
   "execution_count": 7,
   "metadata": {},
   "outputs": [],
   "source": [
    "y_train = pd.get_dummies(y_train) #one hot encoding"
   ]
  },
  {
   "cell_type": "code",
   "execution_count": 8,
   "metadata": {},
   "outputs": [
    {
     "name": "stdout",
     "output_type": "stream",
     "text": [
      "[0 0 0 0 0 0 1 0 1 0 0 1 1 0 0 0 1 0 0 0 1 0 0 0 0 1 1 0 0 0]\n",
      "[-1.12470845 -0.86326953 -0.65281099 -0.50248821 -0.76284323 -0.87465573\n",
      "  1.07709345 -0.99281647  0.47441336 -0.99842743 -0.83989348  0.15633457\n",
      "  0.32871788 -0.97965464 -0.72385083 -0.92638376  1.28322481 -0.56240455\n",
      " -0.72719892 -0.99509775  0.43166724 -0.96451557 -0.82991366 -1.03020581\n",
      " -0.75166835  1.13461335  0.39943974 -1.04194106 -0.93376548 -1.06133798]\n",
      "[ 1.36054602  0.62859488  0.0580828  -0.36987093 -0.25686625 -0.79229874\n",
      " -1.03195247 -0.87132049 -0.77957234  0.99327762 -0.73309581 -0.64607768\n",
      " -0.71843897 -0.80882458  0.47748663  0.69953462 -1.11879121 -0.1870504\n",
      " -0.24458236 -0.99337352 -0.76149141 -0.96812018  0.11310267  1.06892719\n",
      " -0.56749692 -1.05639624 -0.74817515 -1.0537858  -0.89721836  1.17126024]\n",
      "[-1.26277651 -0.77964936 -0.40539105 -0.13070947  0.02643314  0.57365649\n",
      " -1.04443118  0.88027844 -0.69605517 -0.99074328  0.52442024 -0.51171892\n",
      " -0.61157919  0.78148257 -0.75517707 -0.76905925 -1.16380018 -0.25333938\n",
      " -0.0251979   0.98843144 -0.67129528  0.89577306 -0.30363489 -1.03647008\n",
      "  0.31622662 -1.07758405 -0.65251719  1.09632055  0.85541707 -1.11042784]\n"
     ]
    }
   ],
   "source": [
    "svm_1.fit(X_train,y_train.iloc[:,0]) # 데이터 클레스가 0인 애인지 아닌지 구분해주는 머신\n",
    "svm_2.fit(X_train,y_train.iloc[:,1]) # 데이터 클레스가 1인 애인지 아닌지 구분해주는 머신\n",
    "svm_3.fit(X_train,y_train.iloc[:,2]) # 데이터 클레스가 2인 애인지 아닌지 구분해주는 머신\n",
    "print(svm_1.predict(X_test)) #데이터 클래스가 0인지 아닌지 구분해주는 애를 통해서 테스트데이터의 클래스가 0인지 0이 아닌인지 예측해보자\n",
    "\n",
    "print(svm_1.decision_function(X_test)) #decision_function hyperplane과의 거리를 구하는 방법 필요하다면 활용해주세요\n",
    "print(svm_2.decision_function(X_test))\n",
    "print(svm_3.decision_function(X_test))\n",
    "\n",
    "# 0보다 크면 맞다, 작으면 아니다로 해석!"
   ]
  },
  {
   "cell_type": "code",
   "execution_count": 9,
   "metadata": {},
   "outputs": [
    {
     "data": {
      "text/plain": [
       "array([[-1.73673948e-01, -3.62176246e-01,  2.51221427e-01,\n",
       "         1.32509732e-01],\n",
       "       [ 3.10997534e-01, -5.92373012e-01,  5.35408562e-01,\n",
       "         8.77547895e-04],\n",
       "       [ 3.10997534e-01, -1.05276654e+00,  1.04694540e+00,\n",
       "         2.64141916e-01],\n",
       "       [-1.62768839e+00, -1.74335684e+00, -1.39706395e+00,\n",
       "        -1.18381211e+00],\n",
       "       [ 6.86617933e-02,  3.28414053e-01,  5.92245988e-01,\n",
       "         7.90670654e-01],\n",
       "       [ 7.95669016e-01, -1.31979479e-01,  9.90107977e-01,\n",
       "         7.90670654e-01],\n",
       "       [-9.00681170e-01,  1.70959465e+00, -1.28338910e+00,\n",
       "        -1.18381211e+00],\n",
       "       [ 1.89829664e-01, -1.31979479e-01,  5.92245988e-01,\n",
       "         7.90670654e-01],\n",
       "       [-4.16009689e-01,  2.63038172e+00, -1.34022653e+00,\n",
       "        -1.31544430e+00],\n",
       "       [-4.16009689e-01, -1.28296331e+00,  1.37546573e-01,\n",
       "         1.32509732e-01],\n",
       "       [ 6.74501145e-01,  9.82172869e-02,  9.90107977e-01,\n",
       "         7.90670654e-01],\n",
       "       [-4.16009689e-01,  1.01900435e+00, -1.39706395e+00,\n",
       "        -1.31544430e+00],\n",
       "       [-5.37177559e-01,  7.88807586e-01, -1.16971425e+00,\n",
       "        -1.31544430e+00],\n",
       "       [ 4.32165405e-01, -5.92373012e-01,  5.92245988e-01,\n",
       "         7.90670654e-01],\n",
       "       [ 5.53333275e-01, -1.74335684e+00,  3.64896281e-01,\n",
       "         1.32509732e-01],\n",
       "       [ 5.53333275e-01,  5.58610819e-01,  5.35408562e-01,\n",
       "         5.27406285e-01],\n",
       "       [-1.26418478e+00,  7.88807586e-01, -1.22655167e+00,\n",
       "        -1.31544430e+00],\n",
       "       [ 1.89829664e-01, -1.97355361e+00,  1.37546573e-01,\n",
       "        -2.62386821e-01],\n",
       "       [ 5.53333275e-01, -1.28296331e+00,  6.49083415e-01,\n",
       "         3.95774101e-01],\n",
       "       [ 1.28034050e+00,  3.28414053e-01,  1.10378283e+00,\n",
       "         1.44883158e+00],\n",
       "       [-1.74885626e+00, -3.62176246e-01, -1.34022653e+00,\n",
       "        -1.31544430e+00],\n",
       "       [ 7.95669016e-01, -1.31979479e-01,  8.19595696e-01,\n",
       "         1.05393502e+00],\n",
       "       [ 1.03800476e+00, -1.31979479e-01,  7.05920842e-01,\n",
       "         6.59038469e-01],\n",
       "       [ 1.03800476e+00,  9.82172869e-02,  5.35408562e-01,\n",
       "         3.95774101e-01],\n",
       "       [ 1.64384411e+00, -1.31979479e-01,  1.16062026e+00,\n",
       "         5.27406285e-01],\n",
       "       [-1.02184904e+00,  1.24920112e+00, -1.34022653e+00,\n",
       "        -1.31544430e+00],\n",
       "       [-5.37177559e-01,  7.88807586e-01, -1.28338910e+00,\n",
       "        -1.05217993e+00],\n",
       "       [ 5.53333275e-01,  7.88807586e-01,  1.04694540e+00,\n",
       "         1.58046376e+00],\n",
       "       [ 6.74501145e-01, -5.92373012e-01,  1.04694540e+00,\n",
       "         1.31719939e+00],\n",
       "       [-2.94841818e-01, -1.31979479e-01,  1.94384000e-01,\n",
       "         1.32509732e-01]])"
      ]
     },
     "execution_count": 9,
     "metadata": {},
     "output_type": "execute_result"
    }
   ],
   "source": [
    "X_test"
   ]
  },
  {
   "cell_type": "code",
   "execution_count": 10,
   "metadata": {
    "scrolled": false
   },
   "outputs": [
    {
     "name": "stdout",
     "output_type": "stream",
     "text": [
      "3\n",
      "17\n",
      "18\n"
     ]
    }
   ],
   "source": [
    "# 부호가 모두 같은 경우가 있는가요?모두 동점인 경우가 생길것이다.\n",
    "for i in range(len(X_test)):\n",
    "    # decision_function을 이용하면 해당 데이터가 하이퍼플레인으로부터 얼마나 떨어져있는지 거리가 나온다 다음은 그 값의 부호를 이용해\n",
    "    # 모두가 동점인 경우가 있는지 출력하는 함수 \n",
    "    if ((np.sign(svm_1.decision_function(X_test)[i]) == np.sign(svm_2.decision_function(X_test)[i])) \n",
    "    and (np.sign(svm_2.decision_function(X_test)[i]) == np.sign(svm_3.decision_function(X_test)[i]))): \n",
    "        print(i)"
   ]
  },
  {
   "cell_type": "code",
   "execution_count": 11,
   "metadata": {},
   "outputs": [
    {
     "data": {
      "text/plain": [
       "30"
      ]
     },
     "execution_count": 11,
     "metadata": {},
     "output_type": "execute_result"
    }
   ],
   "source": [
    "## Case 1 : One vs Rest SVM을 이부분에 구현해주세요 위 결과들을 이용해서 multi class SVM을 직접 구현해주세요! 하드코딩이 하시기 편할겁니다.\n",
    "len(svm_1.decision_function(X_test))"
   ]
  },
  {
   "cell_type": "code",
   "execution_count": 12,
   "metadata": {},
   "outputs": [
    {
     "data": {
      "text/plain": [
       "['versicolor',\n",
       " 'versicolor',\n",
       " 'versicolor',\n",
       " 0,\n",
       " 'virginica',\n",
       " 'virginica',\n",
       " 'setosa',\n",
       " 'virginica',\n",
       " 'setosa',\n",
       " 'versicolor',\n",
       " 'virginica',\n",
       " 'setosa',\n",
       " 'setosa',\n",
       " 'virginica',\n",
       " 'versicolor',\n",
       " 'versicolor',\n",
       " 'setosa',\n",
       " 0,\n",
       " 0,\n",
       " 'virginica',\n",
       " 'setosa',\n",
       " 'virginica',\n",
       " 'versicolor',\n",
       " 'versicolor',\n",
       " 'virginica',\n",
       " 'setosa',\n",
       " 'setosa',\n",
       " 'virginica',\n",
       " 'virginica',\n",
       " 'versicolor']"
      ]
     },
     "execution_count": 12,
     "metadata": {},
     "output_type": "execute_result"
    }
   ],
   "source": [
    "group = []\n",
    "for i in range(30):\n",
    "    if (np.sign(svm_1.decision_function(X_test)[i]) > 0 and np.sign(svm_2.decision_function(X_test)[i]) < 0 and np.sign(svm_3.decision_function(X_test)[i]) < 0):\n",
    "        group.append('setosa')\n",
    "    elif  (np.sign(svm_2.decision_function(X_test)[i]) > 0 and np.sign(svm_1.decision_function(X_test)[i]) < 0 and np.sign(svm_3.decision_function(X_test)[i]) < 0):\n",
    "        group.append('versicolor')\n",
    "    elif  (np.sign(svm_3.decision_function(X_test)[i]) > 0 and np.sign(svm_2.decision_function(X_test)[i]) < 0 and np.sign(svm_1.decision_function(X_test)[i]) < 0):\n",
    "        group.append('virginica')        \n",
    "    else:\n",
    "        group.append(0)\n",
    "    \n",
    "group"
   ]
  },
  {
   "cell_type": "code",
   "execution_count": 13,
   "metadata": {
    "scrolled": false
   },
   "outputs": [
    {
     "name": "stdout",
     "output_type": "stream",
     "text": [
      "-0.5024882107322184 -0.36987092513822756 -0.13070947139128608\n",
      "-0.562404550285589 -0.18705039695337913 -0.2533393758266559\n",
      "-0.7271989224328648 -0.24458235766281572 -0.025197903756274675\n"
     ]
    }
   ],
   "source": [
    "for i in [3, 17, 18]:\n",
    "    print(svm_1.decision_function(X_test)[i], svm_2.decision_function(X_test)[i], svm_3.decision_function(X_test)[i])\n",
    "# 값을 다 프린트한 후, 절대값 비교"
   ]
  },
  {
   "cell_type": "code",
   "execution_count": 14,
   "metadata": {},
   "outputs": [],
   "source": [
    "group[3] = 'virginica'\n",
    "group[17] = 'versicolor'\n",
    "group[18] = 'virginica'"
   ]
  },
  {
   "cell_type": "code",
   "execution_count": 16,
   "metadata": {},
   "outputs": [
    {
     "data": {
      "text/plain": [
       "0.8666666666666667"
      ]
     },
     "execution_count": 16,
     "metadata": {},
     "output_type": "execute_result"
    }
   ],
   "source": [
    "group\n",
    "from sklearn import metrics\n",
    "metrics.accuracy_score(y_test,group)"
   ]
  },
  {
   "cell_type": "code",
   "execution_count": 17,
   "metadata": {},
   "outputs": [
    {
     "data": {
      "text/plain": [
       "0.8333333333333334"
      ]
     },
     "execution_count": 17,
     "metadata": {},
     "output_type": "execute_result"
    }
   ],
   "source": [
    "# 원 라이브러리가 제공하는 멀티클래스 SVM & 구현한 multiclass SVM결과 비교\n",
    "from sklearn.model_selection import train_test_split #데이터셋 분리\n",
    "X_train_2, X_test_2, y_train_2, y_test_2 = train_test_split(X, y, test_size=0.2, random_state=48)\n",
    "\n",
    "svm_4 = SVC(kernel ='rbf', C = 5, gamma = 5)\n",
    "svm_4.fit(X_train_2, y_train_2)\n",
    "y_pred = svm_4.predict(X_test_2)\n",
    "\n",
    "metrics.accuracy_score(y_test_2,y_pred)"
   ]
  },
  {
   "cell_type": "markdown",
   "metadata": {},
   "source": [
    " group의 accuracy_score가 더 높음을 알 수 있음 !"
   ]
  }
 ],
 "metadata": {
  "file_extension": ".py",
  "kernelspec": {
   "display_name": "Python 3",
   "language": "python",
   "name": "python3"
  },
  "language_info": {
   "codemirror_mode": {
    "name": "ipython",
    "version": 3
   },
   "file_extension": ".py",
   "mimetype": "text/x-python",
   "name": "python",
   "nbconvert_exporter": "python",
   "pygments_lexer": "ipython3",
   "version": "3.7.4"
  },
  "mimetype": "text/x-python",
  "name": "python",
  "npconvert_exporter": "python",
  "pygments_lexer": "ipython3",
  "version": 3
 },
 "nbformat": 4,
 "nbformat_minor": 2
}
