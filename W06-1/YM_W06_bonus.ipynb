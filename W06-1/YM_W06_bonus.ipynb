{
 "cells": [
  {
   "cell_type": "markdown",
   "metadata": {},
   "source": [
    "# 안녕하세요 투빅스 보충 과제입니다 :)\n",
    "\n",
    "안녕하세요 투빅스 12기 김태한입니다 :)\n",
    "\n",
    "이번 과제는 코로나 바이러스로 예상치 못한 휴식시간이 생겨 여러분의 딥러닝 감을 유지하고자 드리게 되었습니다.  \n",
    "\n",
    "투빅이분들이라면 분명 쉽게 해낼거라 믿습니다!!\n",
    "\n",
    "\n",
    "모르시는 거 있으시면 저 그리고 12기 멘토분들을 많이 많이 괴롭혀주세요!!!"
   ]
  },
  {
   "cell_type": "markdown",
   "metadata": {},
   "source": [
    "# Assignment 1"
   ]
  },
  {
   "cell_type": "markdown",
   "metadata": {},
   "source": [
    "여러분들은 저번 과제로 뉴럴넷 구현을 이미 한번 하셨습니다!  \n",
    "\n",
    "사실 이번 과제의 최종 목적도 뉴럴넷 구현인데요 이미 한번 하셨고 실력들이 워낙 출중하셔서 금방금방 하실수 있으실거에요.  \n",
    "\n",
    "구현에 바로 들어가기에 앞서 전체 네트워크 구조와 각 구성요소의 행렬 차원 및 오차역전파(back propagation) 복습이 1번 과제입니다.  \n",
    "\n",
    "**?** 에 들어갈 수식을 채워주시면 됩니다!!  "
   ]
  },
  {
   "cell_type": "markdown",
   "metadata": {},
   "source": [
    "## Matrix Shape 정리\n",
    "\n",
    "n : sample_data 수  \n",
    "d : input_dimension  \n",
    "h : hidden_layer_dimension  \n",
    "c : output_dimension  \n",
    "\n",
    "X : input_data  \n",
    "W1 : layer1_weight  \n",
    "b1 : layer1_bias  \n",
    "H : X*W1+b1\n",
    "A : activation function 거친 value\n",
    "W2 : layer2_weight  \n",
    "b2 : layer2_bias  \n",
    "S : A*W2+b2  \n",
    "P : softmax 거친 value  \n",
    "\n",
    "**X==(n,d)  \n",
    "W1==(d,h) 채워주세요  \n",
    "b1==(h,)  \n",
    "H==(n,h) 채워주세요  \n",
    "A==(n,h)  \n",
    "W2==(h,c)  \n",
    "b2==(1,c) 채워주세요  \n",
    "S==(n,c) 채워주세요  \n",
    "P==(n,c)**"
   ]
  },
  {
   "cell_type": "markdown",
   "metadata": {},
   "source": [
    "## Matrix 미분 정리\n",
    "$H = XW+b　　　(n,h) = (n,d)x(d,h)+(h,)$  \n",
    "$L = f(H)$  \n",
    "$\\frac{\\partial L}{\\partial W} = \\frac{\\partial H}{\\partial W} \\times \\frac{\\partial L}{\\partial H} = f'(W)\\frac{\\partial L}{\\partial H}$ 　채워주세요  \n",
    "$\\frac{\\partial L}{\\partial X} = \\frac{\\partial L}{\\partial H} \\times \\frac{\\partial H}{\\partial X} = \\frac{\\partial L}{\\partial H}f'(X)$ 　채워주세요  \n",
    "$\\frac{\\partial L}{\\partial b} = 1*\\frac{\\partial L}{\\partial H}$  \n",
    "  --> 여기서 1은 단위행렬(I)"
   ]
  },
  {
   "cell_type": "markdown",
   "metadata": {},
   "source": [
    "## 2Layers Chain Rule 정리\n",
    "**Forward** \n",
    "\n",
    "$H = XW_{1} + b$  \n",
    "$A = ReLU(H)$  \n",
    "$S = AW_{2} + b_{2}$  \n",
    "$P = Softmax(S)$  \n",
    "$L = -LogLikelihood(P)$\n",
    "\n",
    "\n",
    "**Backward**\n",
    "\n",
    "$\\frac{\\partial L}{\\partial S} = P-T$　:　T는 Label  \n",
    "$\\frac{\\partial L}{\\partial W_{2}} = \\frac{\\partial S}{\\partial W_{2}}\\frac{\\partial L}{\\partial S} = A^{T}(P-T)$ 　채워주세요  \n",
    "$\\frac{\\partial L}{\\partial b_{2}} = 1*\\frac{\\partial L}{\\partial S} = P-T$  \n",
    "$\\frac{\\partial L}{\\partial A} = \\frac{\\partial L}{\\partial S}\\frac{\\partial S}{\\partial A} = W_{2}^{T}$　채워주세요  \n",
    "$\\frac{\\partial L}{\\partial H} = \\frac{\\partial A}{\\partial H}\\frac{\\partial L}{\\partial A}$  \n",
    "$\\frac{\\partial L}{\\partial W_{1}} = \\frac{\\partial H}{\\partial W_{1}}\\frac{\\partial L}{\\partial H} = X^{T}\\frac{\\partial L}{\\partial H}$  \n",
    "$\\frac{\\partial L}{\\partial b_{1}} = \\frac{\\partial L}{\\partial H}$  "
   ]
  },
  {
   "cell_type": "markdown",
   "metadata": {},
   "source": [
    "# Assignment 2"
   ]
  },
  {
   "cell_type": "markdown",
   "metadata": {},
   "source": [
    "같이 드린 파일중 model.py라는 파일이 있을거에요!!!  \n",
    "그 친구의 빈칸을 채워주시면 되겠습니다~!!  \n",
    "model.py의 함수는 assignment3의 모델 만들기에서 사용되니 참고하시면서 채워주시면 도움이 될거에요!"
   ]
  },
  {
   "cell_type": "markdown",
   "metadata": {},
   "source": [
    "# Assignment 3"
   ]
  },
  {
   "cell_type": "markdown",
   "metadata": {},
   "source": [
    "자 이제 저희가 구현한 모델을 가지고 한번 cifar-10 dataset을 학습해볼게요!!  \n",
    "근데 시작하기에 앞서 pip install keras 를 해주세요!!  \n",
    "\n",
    "3번과제의 목적은 하이퍼파라미터를 튜닝하던 다른방법을 사용하던 해서 마지막에 그림그리기에서 높은 validation accuracy가 나오도록 하는 과제입니다!!  \n",
    "\n",
    "모델을 2층이아니라 본인만의 3층으로 발전시켜도 좋구요 다른 여러가지 방법들이 있겠죠!?!?!?  \n",
    "\n",
    "가장 높은 validation accuracy를 뽑으신 분께 상품을 드리겠습니다아~!!!"
   ]
  },
  {
   "cell_type": "markdown",
   "metadata": {},
   "source": [
    "### 데이터 load\n",
    "\n",
    "keras 프레임워크를 이용하여 데이터를 로드해 옵니다.  \n",
    "32*32*3차원의 데이터를 3072차원으로 바꾸는 것 까지 해드릴게요.\n",
    "필요하면 sklearn.preprocessing의 scaler를 사용해보셔도 좋습니다!"
   ]
  },
  {
   "cell_type": "code",
   "execution_count": 1,
   "metadata": {},
   "outputs": [
    {
     "name": "stderr",
     "output_type": "stream",
     "text": [
      "Using TensorFlow backend.\n"
     ]
    }
   ],
   "source": [
    "from keras.datasets import cifar10\n",
    "import numpy as np\n",
    "from Model import TwoLayerNet\n",
    "from matplotlib import pyplot as plt"
   ]
  },
  {
   "cell_type": "code",
   "execution_count": 2,
   "metadata": {
    "scrolled": true
   },
   "outputs": [],
   "source": [
    "(x_train, y_train), (x_test, y_test) = cifar10.load_data()"
   ]
  },
  {
   "cell_type": "code",
   "execution_count": 3,
   "metadata": {},
   "outputs": [],
   "source": [
    "def preprocessing_data(x_train, x_test, y_train, y_test):\n",
    "    #change dtype\n",
    "    x_train = np.array(x_train, dtype=np.float64)\n",
    "    x_test = np.array(x_test, dtype=np.float64)\n",
    "    \n",
    "    #reshaping\n",
    "    x_train = np.reshape(x_train, (x_train.shape[0], -1))\n",
    "    x_test = np.reshape(x_test, (x_test.shape[0], -1))\n",
    "    \n",
    "    y_train = np.reshape(y_train, (y_train.shape[0],))\n",
    "    y_test = np.reshape(y_test, (y_test.shape[0],))\n",
    "        \n",
    "    #normalizing\n",
    "    mean_value = np.mean(x_train, axis=0)\n",
    "    x_train -= mean_value\n",
    "    x_test -= mean_value\n",
    "    \n",
    "    return x_train, x_test, y_train, y_test"
   ]
  },
  {
   "cell_type": "code",
   "execution_count": 4,
   "metadata": {},
   "outputs": [],
   "source": [
    "x_train, x_test, y_train, y_test = preprocessing_data(x_train, x_test, y_train, y_test)"
   ]
  },
  {
   "cell_type": "code",
   "execution_count": 5,
   "metadata": {},
   "outputs": [
    {
     "name": "stdout",
     "output_type": "stream",
     "text": [
      "(50000, 3072)\n",
      "(10000, 3072)\n",
      "(50000,)\n",
      "(10000,)\n"
     ]
    }
   ],
   "source": [
    "print(x_train.shape)\n",
    "print(x_test.shape)\n",
    "print(y_train.shape)\n",
    "print(y_test.shape)"
   ]
  },
  {
   "cell_type": "markdown",
   "metadata": {},
   "source": [
    "데이터가 너무 많아서 5000개랑 1000개만 사용해보도록 할게요"
   ]
  },
  {
   "cell_type": "code",
   "execution_count": 6,
   "metadata": {},
   "outputs": [],
   "source": [
    "x_train = x_train[:5000]\n",
    "y_train = y_train[:5000]\n",
    "x_test = x_test[:1000]\n",
    "y_test = y_test[:1000]"
   ]
  },
  {
   "cell_type": "markdown",
   "metadata": {},
   "source": [
    "### 데이터 확인\n",
    "\n",
    "실제 데이터가 어떻게 생겼는지 한번 봅시다"
   ]
  },
  {
   "cell_type": "code",
   "execution_count": 7,
   "metadata": {
    "scrolled": true
   },
   "outputs": [
    {
     "data": {
      "text/plain": [
       "array([[ -71.71074,  -74.05614,  -69.5538 , ...,   -3.63908,  -33.8503 ,\n",
       "         -42.38186],\n",
       "       [  23.28926,   40.94386,   54.4462 , ...,   16.36092,    7.1497 ,\n",
       "          29.61814],\n",
       "       [ 124.28926,  118.94386,  122.4462 , ...,  -46.63908,  -39.8503 ,\n",
       "         -30.38186],\n",
       "       ...,\n",
       "       [  36.28926,   26.94386,   12.4462 , ...,  -84.63908,  -47.8503 ,\n",
       "         -30.38186],\n",
       "       [  23.28926,   15.94386,   -7.5538 , ...,   67.36092,  121.1497 ,\n",
       "          -0.38186],\n",
       "       [ -85.71074, -104.05614, -111.5538 , ...,   29.36092,   16.1497 ,\n",
       "         -14.38186]])"
      ]
     },
     "execution_count": 7,
     "metadata": {},
     "output_type": "execute_result"
    }
   ],
   "source": [
    "x_train"
   ]
  },
  {
   "cell_type": "markdown",
   "metadata": {},
   "source": [
    "### 하이퍼파라미터 설정\n",
    "\n",
    "이제 하이퍼파라미터를 설정해볼게요.  \n",
    "hidden_size, epoch_size, batch_size, learning_rate등은 전부 하이퍼 파라미터이니 바꾸면서 도전해보세요!!"
   ]
  },
  {
   "cell_type": "markdown",
   "metadata": {},
   "source": [
    "시도해본 하이퍼 파라미터"
   ]
  },
  {
   "cell_type": "code",
   "execution_count": 76,
   "metadata": {},
   "outputs": [],
   "source": [
    "# 0.408\n",
    "input_size = 32 * 32 * 3\n",
    "hidden_size = 79\n",
    "output_size = 10\n",
    "epoch_size = 1000 # 그라디언트를 몇 번 할 건지\n",
    "batch_size = 128\n",
    "learning_rate = 0.001\n",
    "N = x_train.shape[0]"
   ]
  },
  {
   "cell_type": "code",
   "execution_count": 86,
   "metadata": {},
   "outputs": [],
   "source": [
    "# 0.413\n",
    "input_size = 32 * 32 * 3\n",
    "hidden_size = 79\n",
    "output_size = 10\n",
    "epoch_size = 1000 # 그라디언트를 몇 번 할 건지\n",
    "batch_size = 32\n",
    "learning_rate = 0.001\n",
    "N = x_train.shape[0]"
   ]
  },
  {
   "cell_type": "code",
   "execution_count": 91,
   "metadata": {},
   "outputs": [],
   "source": [
    "# 0.416\n",
    "input_size = 32 * 32 * 3\n",
    "hidden_size = 79\n",
    "output_size = 10\n",
    "epoch_size = 1000 # 그라디언트를 몇 번 할 건지\n",
    "batch_size = 72\n",
    "learning_rate = 0.001\n",
    "N = x_train.shape[0]"
   ]
  },
  {
   "cell_type": "code",
   "execution_count": 130,
   "metadata": {},
   "outputs": [],
   "source": [
    "# 0.415\n",
    "input_size = 32 * 32 * 3\n",
    "hidden_size = 79\n",
    "output_size = 10\n",
    "epoch_size = 1000 # 그라디언트를 몇 번 할 건지\n",
    "batch_size = 131\n",
    "learning_rate = 0.001\n",
    "N = x_train.shape[0]"
   ]
  },
  {
   "cell_type": "code",
   "execution_count": 160,
   "metadata": {},
   "outputs": [],
   "source": [
    "# 0.423\n",
    "input_size = 32 * 32 * 3\n",
    "hidden_size = 80\n",
    "output_size = 10\n",
    "epoch_size = 1000 # 그라디언트를 몇 번 할 건지\n",
    "batch_size = 128\n",
    "learning_rate = 0.001\n",
    "N = x_train.shape[0]"
   ]
  },
  {
   "cell_type": "code",
   "execution_count": 156,
   "metadata": {},
   "outputs": [],
   "source": [
    "# 0.435, 다시 돌리니까 0.414 나옴..\n",
    "input_size = 32 * 32 * 3\n",
    "hidden_size = 79\n",
    "output_size = 10\n",
    "epoch_size = 1000 # 그라디언트를 몇 번 할 건지\n",
    "batch_size = 130\n",
    "learning_rate = 0.001\n",
    "N = x_train.shape[0]"
   ]
  },
  {
   "cell_type": "markdown",
   "metadata": {},
   "source": [
    "왜 돌릴 때마다 결과가 다른 걸까요..?"
   ]
  },
  {
   "cell_type": "markdown",
   "metadata": {},
   "source": [
    "### 모델 만들기\n",
    "\n",
    "input_size, hidden_size, output_size는 데이터에 맞게 잘 설정해주세요."
   ]
  },
  {
   "cell_type": "code",
   "execution_count": 161,
   "metadata": {},
   "outputs": [],
   "source": [
    "batch_mask = np.random.choice(N, batch_size) #이번 배치에서 쓸 데이터들 인덱스 추출\n",
    "x_batch = x_train[batch_mask]"
   ]
  },
  {
   "cell_type": "code",
   "execution_count": 162,
   "metadata": {},
   "outputs": [],
   "source": [
    "nn = TwoLayerNet(x_batch, input_size=input_size, hidden_size=hidden_size, output_size=output_size)"
   ]
  },
  {
   "cell_type": "code",
   "execution_count": 163,
   "metadata": {},
   "outputs": [
    {
     "name": "stdout",
     "output_type": "stream",
     "text": [
      "0 test accuracy : 0.09\n",
      "0 test loss     : 2.798125664722932\n",
      "10 test accuracy : 0.09\n",
      "10 test loss     : 2.761823505943577\n",
      "20 test accuracy : 0.136\n",
      "20 test loss     : 2.5851089763006985\n",
      "30 test accuracy : 0.151\n",
      "30 test loss     : 2.4583822603434324\n",
      "40 test accuracy : 0.19\n",
      "40 test loss     : 2.359560867947695\n",
      "50 test accuracy : 0.208\n",
      "50 test loss     : 2.2772881388744026\n",
      "60 test accuracy : 0.218\n",
      "60 test loss     : 2.2237332219283203\n",
      "70 test accuracy : 0.231\n",
      "70 test loss     : 2.180798181712535\n",
      "80 test accuracy : 0.239\n",
      "80 test loss     : 2.140583976240832\n",
      "90 test accuracy : 0.245\n",
      "90 test loss     : 2.1042521784548596\n",
      "100 test accuracy : 0.254\n",
      "100 test loss     : 2.0705139004051225\n",
      "110 test accuracy : 0.258\n",
      "110 test loss     : 2.040797868440419\n",
      "120 test accuracy : 0.273\n",
      "120 test loss     : 2.0143249518433985\n",
      "130 test accuracy : 0.28\n",
      "130 test loss     : 1.9892044690138573\n",
      "140 test accuracy : 0.284\n",
      "140 test loss     : 1.968312925178981\n",
      "150 test accuracy : 0.294\n",
      "150 test loss     : 1.9483314823557025\n",
      "160 test accuracy : 0.303\n",
      "160 test loss     : 1.9293605303656314\n",
      "170 test accuracy : 0.315\n",
      "170 test loss     : 1.9105779661054363\n",
      "180 test accuracy : 0.316\n",
      "180 test loss     : 1.8935512218698192\n",
      "190 test accuracy : 0.319\n",
      "190 test loss     : 1.878204880338139\n",
      "200 test accuracy : 0.322\n",
      "200 test loss     : 1.865648320902745\n",
      "210 test accuracy : 0.326\n",
      "210 test loss     : 1.8537371199563806\n",
      "220 test accuracy : 0.328\n",
      "220 test loss     : 1.8431608574364775\n",
      "230 test accuracy : 0.33\n",
      "230 test loss     : 1.8348090770518248\n",
      "240 test accuracy : 0.33\n",
      "240 test loss     : 1.8253572805945513\n",
      "250 test accuracy : 0.337\n",
      "250 test loss     : 1.8177118761779054\n",
      "260 test accuracy : 0.338\n",
      "260 test loss     : 1.8084237191844061\n",
      "270 test accuracy : 0.339\n",
      "270 test loss     : 1.8019316296711618\n",
      "280 test accuracy : 0.342\n",
      "280 test loss     : 1.7936740694229227\n",
      "290 test accuracy : 0.349\n",
      "290 test loss     : 1.7884548711802142\n",
      "300 test accuracy : 0.352\n",
      "300 test loss     : 1.782222573981916\n",
      "310 test accuracy : 0.352\n",
      "310 test loss     : 1.7746376090697564\n",
      "320 test accuracy : 0.356\n",
      "320 test loss     : 1.7685076594118738\n",
      "330 test accuracy : 0.355\n",
      "330 test loss     : 1.7635540230145084\n",
      "340 test accuracy : 0.362\n",
      "340 test loss     : 1.7589453925834504\n",
      "350 test accuracy : 0.359\n",
      "350 test loss     : 1.754075516274665\n",
      "360 test accuracy : 0.366\n",
      "360 test loss     : 1.7490404267464255\n",
      "370 test accuracy : 0.363\n",
      "370 test loss     : 1.74326605511746\n",
      "380 test accuracy : 0.37\n",
      "380 test loss     : 1.7397759144540357\n",
      "390 test accuracy : 0.369\n",
      "390 test loss     : 1.7360132871261713\n",
      "400 test accuracy : 0.372\n",
      "400 test loss     : 1.7304592652499249\n",
      "410 test accuracy : 0.368\n",
      "410 test loss     : 1.7287750615834239\n",
      "420 test accuracy : 0.375\n",
      "420 test loss     : 1.7240143798504408\n",
      "430 test accuracy : 0.378\n",
      "430 test loss     : 1.7190160955558418\n",
      "440 test accuracy : 0.382\n",
      "440 test loss     : 1.7158096705605836\n",
      "450 test accuracy : 0.38\n",
      "450 test loss     : 1.7134622815425065\n",
      "460 test accuracy : 0.384\n",
      "460 test loss     : 1.7102520539014257\n",
      "470 test accuracy : 0.387\n",
      "470 test loss     : 1.7077692986960413\n",
      "480 test accuracy : 0.377\n",
      "480 test loss     : 1.7051853667925914\n",
      "490 test accuracy : 0.386\n",
      "490 test loss     : 1.7026765533283714\n",
      "500 test accuracy : 0.38\n",
      "500 test loss     : 1.7013848933060576\n",
      "510 test accuracy : 0.388\n",
      "510 test loss     : 1.6989115808548236\n",
      "520 test accuracy : 0.381\n",
      "520 test loss     : 1.696312168694312\n",
      "530 test accuracy : 0.393\n",
      "530 test loss     : 1.6928274809691373\n",
      "540 test accuracy : 0.389\n",
      "540 test loss     : 1.6902788815399663\n",
      "550 test accuracy : 0.392\n",
      "550 test loss     : 1.6885175106261363\n",
      "560 test accuracy : 0.39\n",
      "560 test loss     : 1.6867786466040955\n",
      "570 test accuracy : 0.394\n",
      "570 test loss     : 1.6850592890918692\n",
      "580 test accuracy : 0.396\n",
      "580 test loss     : 1.6831461707584363\n",
      "590 test accuracy : 0.399\n",
      "590 test loss     : 1.6812773909786511\n",
      "600 test accuracy : 0.403\n",
      "600 test loss     : 1.6774117473622416\n",
      "610 test accuracy : 0.399\n",
      "610 test loss     : 1.6758143762585123\n",
      "620 test accuracy : 0.4\n",
      "620 test loss     : 1.6761544489793043\n",
      "630 test accuracy : 0.397\n",
      "630 test loss     : 1.6758173923808586\n",
      "640 test accuracy : 0.398\n",
      "640 test loss     : 1.6725240580303375\n",
      "650 test accuracy : 0.399\n",
      "650 test loss     : 1.6705679763800372\n",
      "660 test accuracy : 0.403\n",
      "660 test loss     : 1.6691158149895893\n",
      "670 test accuracy : 0.405\n",
      "670 test loss     : 1.6671288330034992\n",
      "680 test accuracy : 0.404\n",
      "680 test loss     : 1.6650769122177285\n",
      "690 test accuracy : 0.406\n",
      "690 test loss     : 1.6672799298637833\n",
      "700 test accuracy : 0.405\n",
      "700 test loss     : 1.6656056951667133\n",
      "710 test accuracy : 0.406\n",
      "710 test loss     : 1.6640073817335033\n",
      "720 test accuracy : 0.411\n",
      "720 test loss     : 1.6617238663026521\n",
      "730 test accuracy : 0.417\n",
      "730 test loss     : 1.6623315420164941\n",
      "740 test accuracy : 0.415\n",
      "740 test loss     : 1.6593014403066622\n",
      "750 test accuracy : 0.408\n",
      "750 test loss     : 1.660526775286874\n",
      "760 test accuracy : 0.408\n",
      "760 test loss     : 1.6587650925407862\n",
      "770 test accuracy : 0.403\n",
      "770 test loss     : 1.6605100905150798\n",
      "780 test accuracy : 0.413\n",
      "780 test loss     : 1.6604674675636384\n",
      "790 test accuracy : 0.41\n",
      "790 test loss     : 1.659726571872542\n",
      "800 test accuracy : 0.415\n",
      "800 test loss     : 1.6604481623438447\n",
      "810 test accuracy : 0.413\n",
      "810 test loss     : 1.6609156112569545\n",
      "820 test accuracy : 0.41\n",
      "820 test loss     : 1.6591637811426818\n",
      "830 test accuracy : 0.415\n",
      "830 test loss     : 1.6587556935754257\n",
      "840 test accuracy : 0.414\n",
      "840 test loss     : 1.661596503539178\n",
      "850 test accuracy : 0.412\n",
      "850 test loss     : 1.6626686265206163\n",
      "860 test accuracy : 0.416\n",
      "860 test loss     : 1.6599992086267787\n",
      "870 test accuracy : 0.417\n",
      "870 test loss     : 1.6588703305267882\n",
      "880 test accuracy : 0.414\n",
      "880 test loss     : 1.6592342933044306\n",
      "890 test accuracy : 0.415\n",
      "890 test loss     : 1.6603965005420667\n",
      "900 test accuracy : 0.414\n",
      "900 test loss     : 1.6615335304056433\n",
      "910 test accuracy : 0.416\n",
      "910 test loss     : 1.663706442718846\n",
      "920 test accuracy : 0.414\n",
      "920 test loss     : 1.6661744251738577\n",
      "930 test accuracy : 0.417\n",
      "930 test loss     : 1.66758666535469\n",
      "940 test accuracy : 0.418\n",
      "940 test loss     : 1.6666058757694586\n",
      "950 test accuracy : 0.421\n",
      "950 test loss     : 1.6662595101417446\n",
      "960 test accuracy : 0.422\n",
      "960 test loss     : 1.6658288929863903\n",
      "970 test accuracy : 0.421\n",
      "970 test loss     : 1.6693365699334533\n",
      "980 test accuracy : 0.418\n",
      "980 test loss     : 1.670234769569002\n",
      "990 test accuracy : 0.413\n",
      "990 test loss     : 1.674002472816947\n"
     ]
    }
   ],
   "source": [
    "history = {'val_acc': [],'val_loss': []} #기록해서 그림 그리자!\n",
    "\n",
    "#코드를 보며 epoch, batch에 대해서 이해해봅시다.\n",
    "for i in range(epoch_size):\n",
    "    for j in range(N//batch_size):\n",
    "        batch_mask = np.random.choice(N, batch_size) #이번 배치에서 쓸 데이터들 인덱스 추출\n",
    "        x_batch = x_train[batch_mask]\n",
    "        t_batch = y_train[batch_mask]\n",
    "        \n",
    "        nn.backward(x_batch, t_batch, 1e-7) # 가중치 갱신\n",
    "    \n",
    "    #accuracy와 loss를 기록해둡시다.\n",
    "    history[\"val_acc\"].append(nn.accuracy(x_test, y_test))\n",
    "    history[\"val_loss\"].append(nn.forward(x_test, y_test))\n",
    "    \n",
    "    if i % 10 == 0:\n",
    "        print(i, \"test accuracy :\", nn.accuracy(x_test, y_test))\n",
    "        print(i, \"test loss     :\", nn.forward(x_test, y_test))"
   ]
  },
  {
   "cell_type": "markdown",
   "metadata": {},
   "source": [
    "### 그림 그리기"
   ]
  },
  {
   "cell_type": "code",
   "execution_count": 164,
   "metadata": {
    "scrolled": true
   },
   "outputs": [
    {
     "data": {
      "image/png": "[encoded data removed]",
      "text/plain": [
       "<Figure size 432x288 with 2 Axes>"
      ]
     },
     "metadata": {
      "needs_background": "light"
     },
     "output_type": "display_data"
    },
    {
     "name": "stdout",
     "output_type": "stream",
     "text": [
      "나의 최고 validation accuracy :  0.424\n"
     ]
    }
   ],
   "source": [
    "fig = plt.figure()\n",
    "ax_acc = fig.add_subplot(111)\n",
    "\n",
    "ax_acc.plot(range(epoch_size), history['val_acc'], label='정확도(%)', color='darkred')\n",
    "#plt.text(3, 14.7, \"<----------------정확도(%)\", verticalalignment='top', horizontalalignment='right')\n",
    "plt.xlabel('epochs')\n",
    "plt.ylabel('Validation Accuracy(%)')\n",
    "ax_acc.grid(linestyle='--', color='lavender')\n",
    "ax_loss = ax_acc.twinx()\n",
    "ax_loss.plot(range(epoch_size), history['val_loss'], label='오차', color='darkblue')\n",
    "#plt.text(3, 2.2, \"<----------------오차\", verticalalignment='top', horizontalalignment='left')\n",
    "plt.ylabel('Validation Error')\n",
    "ax_loss.yaxis.tick_right()\n",
    "ax_loss.grid(linestyle='--', color='lavender')\n",
    "\n",
    "# 그래프 표시\n",
    "plt.show()\n",
    "\n",
    "# 나의 최고 validation accuracy는? 두구두구~\n",
    "print(\"나의 최고 validation accuracy : \",max(history['val_acc']))"
   ]
  },
  {
   "cell_type": "code",
   "execution_count": null,
   "metadata": {},
   "outputs": [],
   "source": []
  }
 ],
 "metadata": {
  "kernelspec": {
   "display_name": "Python 3",
   "language": "python",
   "name": "python3"
  },
  "language_info": {
   "codemirror_mode": {
    "name": "ipython",
    "version": 3
   },
   "file_extension": ".py",
   "mimetype": "text/x-python",
   "name": "python",
   "nbconvert_exporter": "python",
   "pygments_lexer": "ipython3",
   "version": "3.7.6"
  }
 },
 "nbformat": 4,
 "nbformat_minor": 2
}
